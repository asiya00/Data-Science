{
  "nbformat": 4,
  "nbformat_minor": 0,
  "metadata": {
    "kernelspec": {
      "display_name": "Python 3",
      "language": "python",
      "name": "python3"
    },
    "language_info": {
      "codemirror_mode": {
        "name": "ipython",
        "version": 3
      },
      "file_extension": ".py",
      "mimetype": "text/x-python",
      "name": "python",
      "nbconvert_exporter": "python",
      "pygments_lexer": "ipython3",
      "version": "3.6.3"
    },
    "colab": {
      "name": "Numpy_Lab_Exercise_Question.ipynb",
      "provenance": [],
      "include_colab_link": true
    }
  },
  "cells": [
    {
      "cell_type": "markdown",
      "metadata": {
        "id": "view-in-github",
        "colab_type": "text"
      },
      "source": [
        "<a href=\"https://colab.research.google.com/github/asiya00/Data-Science/blob/main/Numpy_Lab_Exercise_Question.ipynb\" target=\"_parent\"><img src=\"https://colab.research.google.com/assets/colab-badge.svg\" alt=\"Open In Colab\"/></a>"
      ]
    },
    {
      "cell_type": "markdown",
      "metadata": {
        "id": "QpGq-rUK5G7F"
      },
      "source": [
        "# NumPy Lab Exercises \n",
        "\n",
        "Solve the following questions"
      ]
    },
    {
      "cell_type": "markdown",
      "metadata": {
        "id": "nPc3JPKC5G7J"
      },
      "source": [
        "#### Import NumPy package as np"
      ]
    },
    {
      "cell_type": "code",
      "metadata": {
        "collapsed": true,
        "id": "GRlpy6AP5G7K"
      },
      "source": [
        "import numpy as np"
      ],
      "execution_count": null,
      "outputs": []
    },
    {
      "cell_type": "markdown",
      "metadata": {
        "id": "BuP6jNex5G7L"
      },
      "source": [
        "#### Create an empty array of 20 0's and replace the 4th object with the number 5"
      ]
    },
    {
      "cell_type": "code",
      "metadata": {
        "id": "Vs1QSlO35G7M",
        "outputId": "c8214fb2-47a1-463c-cf4b-ac0aaacfeb88"
      },
      "source": [
        "a = np.zeros(20)\n",
        "\n",
        "a[3]=5\n",
        "\n",
        "a"
      ],
      "execution_count": null,
      "outputs": [
        {
          "output_type": "execute_result",
          "data": {
            "text/plain": [
              "array([ 0.,  0.,  0.,  5.,  0.,  0.,  0.,  0.,  0.,  0.,  0.,  0.,  0.,\n",
              "        0.,  0.,  0.,  0.,  0.,  0.,  0.])"
            ]
          },
          "metadata": {
            "tags": []
          },
          "execution_count": 2
        }
      ]
    },
    {
      "cell_type": "markdown",
      "metadata": {
        "id": "COUUp7-l5G7N"
      },
      "source": [
        "#### Create an array of 20 1's and store it as a variable named array_master. Copy the same array into another variable named array_copy"
      ]
    },
    {
      "cell_type": "code",
      "metadata": {
        "id": "oraY16o95G7O",
        "outputId": "64656488-01ed-43ca-f454-5e10ee20246f"
      },
      "source": [
        "array_master = np.ones(20)\n",
        "\n",
        "array_copy = array_master.copy()\n",
        "\n",
        "array_copy"
      ],
      "execution_count": null,
      "outputs": [
        {
          "output_type": "execute_result",
          "data": {
            "text/plain": [
              "array([ 1.,  1.,  1.,  1.,  1.,  1.,  1.,  1.,  1.,  1.,  1.,  1.,  1.,\n",
              "        1.,  1.,  1.,  1.,  1.,  1.,  1.])"
            ]
          },
          "metadata": {
            "tags": []
          },
          "execution_count": 3
        }
      ]
    },
    {
      "cell_type": "markdown",
      "metadata": {
        "id": "TsE2kkts5G7P"
      },
      "source": [
        "#### Create an array containing 30 1's and broadcast all the one's to the value 100"
      ]
    },
    {
      "cell_type": "code",
      "metadata": {
        "id": "GeLZKWGN5G7T",
        "outputId": "6bc82be4-9471-4451-fa66-9bed44e7f2e0"
      },
      "source": [
        "array = np.ones(30)\n",
        "\n",
        "array[:] = 100\n",
        "\n",
        "array"
      ],
      "execution_count": null,
      "outputs": [
        {
          "output_type": "execute_result",
          "data": {
            "text/plain": [
              "array([ 100.,  100.,  100.,  100.,  100.,  100.,  100.,  100.,  100.,\n",
              "        100.,  100.,  100.,  100.,  100.,  100.,  100.,  100.,  100.,\n",
              "        100.,  100.,  100.,  100.,  100.,  100.,  100.,  100.,  100.,\n",
              "        100.,  100.,  100.])"
            ]
          },
          "metadata": {
            "tags": []
          },
          "execution_count": 4
        }
      ]
    },
    {
      "cell_type": "markdown",
      "metadata": {
        "id": "XWbRGU7N5G7U"
      },
      "source": [
        "#### Create an array of integers starting from 21 until 31 and name it as array1\n",
        "\n",
        "#### Create an array of integers starting from 11 until 21 and name it array2\n",
        "\n",
        "#### Calculate the difference between array1 and array2"
      ]
    },
    {
      "cell_type": "code",
      "metadata": {
        "id": "VkS3ZdQ55G7U",
        "outputId": "1913d725-deee-425f-c189-26960c1aa02e"
      },
      "source": [
        "array1 = np.arange(21,32)\n",
        "\n",
        "array2 = np.arange(11,22)\n",
        "\n",
        "array1 - array2"
      ],
      "execution_count": null,
      "outputs": [
        {
          "output_type": "execute_result",
          "data": {
            "text/plain": [
              "array([10, 10, 10, 10, 10, 10, 10, 10, 10, 10, 10])"
            ]
          },
          "metadata": {
            "tags": []
          },
          "execution_count": 5
        }
      ]
    },
    {
      "cell_type": "markdown",
      "metadata": {
        "id": "rHqU-6A35G7V"
      },
      "source": [
        "#### Create an array of all even integers from 2 to 10 and name it a1\n",
        "\n",
        "#### Create an array of all even integers from 22 to 30 and name it a2\n",
        "\n",
        "####  a) Use the 2 arrays as rows and create a matrix [ Hint - Use stack function from numpy ]"
      ]
    },
    {
      "cell_type": "code",
      "metadata": {
        "id": "3h5b8vvN5G7W",
        "outputId": "67e726f5-8fb3-471b-db91-67883f3127db"
      },
      "source": [
        "a1 = np.arange(2,11,2)\n",
        "\n",
        "a2 = np.arange(22,31,2)\n",
        "\n",
        "np.stack((a1,a2))"
      ],
      "execution_count": null,
      "outputs": [
        {
          "output_type": "execute_result",
          "data": {
            "text/plain": [
              "array([[ 2,  4,  6,  8, 10],\n",
              "       [22, 24, 26, 28, 30]])"
            ]
          },
          "metadata": {
            "tags": []
          },
          "execution_count": 9
        }
      ]
    },
    {
      "cell_type": "markdown",
      "metadata": {
        "id": "a6MU_upC5G7X"
      },
      "source": [
        "####  b) Use the 2 arrays as columns and create a matrix [ Hint - Use column_stack function from numpy ]"
      ]
    },
    {
      "cell_type": "code",
      "metadata": {
        "id": "bsiP80OK5G7X",
        "outputId": "f44ea42b-5ae8-4010-bfa7-1fba73589690"
      },
      "source": [
        "np.column_stack((a1,a2))"
      ],
      "execution_count": null,
      "outputs": [
        {
          "output_type": "execute_result",
          "data": {
            "text/plain": [
              "array([[ 2, 22],\n",
              "       [ 4, 24],\n",
              "       [ 6, 26],\n",
              "       [ 8, 28],\n",
              "       [10, 30]])"
            ]
          },
          "metadata": {
            "tags": []
          },
          "execution_count": 10
        }
      ]
    },
    {
      "cell_type": "markdown",
      "metadata": {
        "id": "TU2EgD8a5G7Y"
      },
      "source": [
        "#### Create a 5x6 matrix with values ranging from 0 to 29 and retrieve the value intersecting at 2nd row and 3rd column"
      ]
    },
    {
      "cell_type": "code",
      "metadata": {
        "id": "b4UqeVVM5G7Y",
        "outputId": "d7040aba-348f-47bf-d4c9-c4a9b5232532"
      },
      "source": [
        "array_matrix = np.arange(30).reshape(5,6)\n",
        "\n",
        "array_matrix[1,2]"
      ],
      "execution_count": null,
      "outputs": [
        {
          "output_type": "execute_result",
          "data": {
            "text/plain": [
              "8"
            ]
          },
          "metadata": {
            "tags": []
          },
          "execution_count": 11
        }
      ]
    },
    {
      "cell_type": "markdown",
      "metadata": {
        "id": "OkoYvIGl5G7Z"
      },
      "source": [
        "#### Create an identity matrix of shape 10x10 and replace the 0's with the value 21"
      ]
    },
    {
      "cell_type": "code",
      "metadata": {
        "id": "Z8B0UkyO5G7Z",
        "outputId": "c5ba1eaf-8c26-4231-d28f-896890923906"
      },
      "source": [
        "arr = np.eye(10)\n",
        "\n",
        "arr[arr == 0] = 21\n",
        "\n",
        "arr"
      ],
      "execution_count": null,
      "outputs": [
        {
          "output_type": "execute_result",
          "data": {
            "text/plain": [
              "array([[  1.,  21.,  21.,  21.,  21.,  21.,  21.,  21.,  21.,  21.],\n",
              "       [ 21.,   1.,  21.,  21.,  21.,  21.,  21.,  21.,  21.,  21.],\n",
              "       [ 21.,  21.,   1.,  21.,  21.,  21.,  21.,  21.,  21.,  21.],\n",
              "       [ 21.,  21.,  21.,   1.,  21.,  21.,  21.,  21.,  21.,  21.],\n",
              "       [ 21.,  21.,  21.,  21.,   1.,  21.,  21.,  21.,  21.,  21.],\n",
              "       [ 21.,  21.,  21.,  21.,  21.,   1.,  21.,  21.,  21.,  21.],\n",
              "       [ 21.,  21.,  21.,  21.,  21.,  21.,   1.,  21.,  21.,  21.],\n",
              "       [ 21.,  21.,  21.,  21.,  21.,  21.,  21.,   1.,  21.,  21.],\n",
              "       [ 21.,  21.,  21.,  21.,  21.,  21.,  21.,  21.,   1.,  21.],\n",
              "       [ 21.,  21.,  21.,  21.,  21.,  21.,  21.,  21.,  21.,   1.]])"
            ]
          },
          "metadata": {
            "tags": []
          },
          "execution_count": 13
        }
      ]
    },
    {
      "cell_type": "markdown",
      "metadata": {
        "id": "BFi9l3Gj5G7a"
      },
      "source": [
        "#### Use NumPy to generate a random set of 10 numbers between 0 and 1\n",
        "\n",
        "#### Display a boolean array output where all values > 0.2 are True, rest are marked as False"
      ]
    },
    {
      "cell_type": "code",
      "metadata": {
        "id": "H4AJAGy_5G7a",
        "outputId": "340266a2-f71a-4f71-c114-042db7d3e7c9"
      },
      "source": [
        "ar = np.random.rand(10)\n",
        "\n",
        "ar>0.2"
      ],
      "execution_count": null,
      "outputs": [
        {
          "output_type": "execute_result",
          "data": {
            "text/plain": [
              "array([False,  True,  True,  True,  True, False,  True, False,  True,  True], dtype=bool)"
            ]
          },
          "metadata": {
            "tags": []
          },
          "execution_count": 14
        }
      ]
    },
    {
      "cell_type": "markdown",
      "metadata": {
        "id": "fpnSmIiR5G7b"
      },
      "source": [
        "#### Use NumPy to generate an array matrix of 5x2 random numbers sampled from a standard normal distribution"
      ]
    },
    {
      "cell_type": "code",
      "metadata": {
        "id": "OQv4mlgS5G7b",
        "outputId": "61b12292-dbbf-448d-e464-16a6f5c62617"
      },
      "source": [
        "np.random.randn(5,2)"
      ],
      "execution_count": null,
      "outputs": [
        {
          "output_type": "execute_result",
          "data": {
            "text/plain": [
              "array([[-1.07004361, -0.54106594],\n",
              "       [ 0.05922295, -0.33106219],\n",
              "       [ 0.0268216 ,  0.23273877],\n",
              "       [-0.80636334,  0.25257233],\n",
              "       [ 0.67945485, -0.27808232]])"
            ]
          },
          "metadata": {
            "tags": []
          },
          "execution_count": 15
        }
      ]
    },
    {
      "cell_type": "markdown",
      "metadata": {
        "id": "YJp3HJF-5G7c"
      },
      "source": [
        "#### Create an array of 30 linearly spaced points between 0 and 100:"
      ]
    },
    {
      "cell_type": "code",
      "metadata": {
        "id": "4EfQ9UVp5G7c",
        "outputId": "3acb8ba3-c1f3-43b4-ec42-e50c01f949a0"
      },
      "source": [
        "np.linspace(0,100,30)"
      ],
      "execution_count": null,
      "outputs": [
        {
          "output_type": "execute_result",
          "data": {
            "text/plain": [
              "array([   0.        ,    3.44827586,    6.89655172,   10.34482759,\n",
              "         13.79310345,   17.24137931,   20.68965517,   24.13793103,\n",
              "         27.5862069 ,   31.03448276,   34.48275862,   37.93103448,\n",
              "         41.37931034,   44.82758621,   48.27586207,   51.72413793,\n",
              "         55.17241379,   58.62068966,   62.06896552,   65.51724138,\n",
              "         68.96551724,   72.4137931 ,   75.86206897,   79.31034483,\n",
              "         82.75862069,   86.20689655,   89.65517241,   93.10344828,\n",
              "         96.55172414,  100.        ])"
            ]
          },
          "metadata": {
            "tags": []
          },
          "execution_count": 56
        }
      ]
    },
    {
      "cell_type": "markdown",
      "metadata": {
        "id": "ma5lpAP15G7d"
      },
      "source": [
        "## Numpy Indexing and Selections\n",
        "\n",
        "Using the below given Matrix, generate the output for the below questions"
      ]
    },
    {
      "cell_type": "code",
      "metadata": {
        "id": "J8xG1yGF5G7d",
        "outputId": "cfbe857a-4385-41c4-81ae-0a1bd31f4ff6"
      },
      "source": [
        "simple_matrix = np.arange(1,101).reshape(10,10)\n",
        "simple_matrix"
      ],
      "execution_count": null,
      "outputs": [
        {
          "output_type": "execute_result",
          "data": {
            "text/plain": [
              "array([[  1,   2,   3,   4,   5,   6,   7,   8,   9,  10],\n",
              "       [ 11,  12,  13,  14,  15,  16,  17,  18,  19,  20],\n",
              "       [ 21,  22,  23,  24,  25,  26,  27,  28,  29,  30],\n",
              "       [ 31,  32,  33,  34,  35,  36,  37,  38,  39,  40],\n",
              "       [ 41,  42,  43,  44,  45,  46,  47,  48,  49,  50],\n",
              "       [ 51,  52,  53,  54,  55,  56,  57,  58,  59,  60],\n",
              "       [ 61,  62,  63,  64,  65,  66,  67,  68,  69,  70],\n",
              "       [ 71,  72,  73,  74,  75,  76,  77,  78,  79,  80],\n",
              "       [ 81,  82,  83,  84,  85,  86,  87,  88,  89,  90],\n",
              "       [ 91,  92,  93,  94,  95,  96,  97,  98,  99, 100]])"
            ]
          },
          "metadata": {
            "tags": []
          },
          "execution_count": 16
        }
      ]
    },
    {
      "cell_type": "markdown",
      "metadata": {
        "collapsed": true,
        "id": "0k214Kfw5G7d"
      },
      "source": [
        "#### a) Retrieve the last 2 rows and first 3 column values of the above matrix using index & selection technique"
      ]
    },
    {
      "cell_type": "code",
      "metadata": {
        "id": "8Zw1YfyX5G7e",
        "outputId": "137cc8b4-85fc-46a6-e06d-1a7c4e457d6f"
      },
      "source": [
        "simple_matrix[8:,0:3]"
      ],
      "execution_count": null,
      "outputs": [
        {
          "output_type": "execute_result",
          "data": {
            "text/plain": [
              "array([[81, 82, 83],\n",
              "       [91, 92, 93]])"
            ]
          },
          "metadata": {
            "tags": []
          },
          "execution_count": 17
        }
      ]
    },
    {
      "cell_type": "markdown",
      "metadata": {
        "collapsed": true,
        "id": "kbzZllNH5G7e"
      },
      "source": [
        "#### b) Retrieve the value 55 from the above matrix using index & selection technique"
      ]
    },
    {
      "cell_type": "code",
      "metadata": {
        "id": "eFQYk-w-5G7f",
        "outputId": "08803337-492f-466f-dd44-52d7b2b8b91e"
      },
      "source": [
        "simple_matrix[5,4]"
      ],
      "execution_count": null,
      "outputs": [
        {
          "output_type": "execute_result",
          "data": {
            "text/plain": [
              "55"
            ]
          },
          "metadata": {
            "tags": []
          },
          "execution_count": 18
        }
      ]
    },
    {
      "cell_type": "markdown",
      "metadata": {
        "collapsed": true,
        "id": "jhf7LSvv5G7f"
      },
      "source": [
        "#### c) Retrieve the values from the 3rd column in the above matrix"
      ]
    },
    {
      "cell_type": "code",
      "metadata": {
        "id": "F9u3nY1S5G7h",
        "outputId": "28bbfa7f-a026-4ab0-9cab-309ae0950a34"
      },
      "source": [
        "simple_matrix[:,2]"
      ],
      "execution_count": null,
      "outputs": [
        {
          "output_type": "execute_result",
          "data": {
            "text/plain": [
              "array([ 3, 13, 23, 33, 43, 53, 63, 73, 83, 93])"
            ]
          },
          "metadata": {
            "tags": []
          },
          "execution_count": 19
        }
      ]
    },
    {
      "cell_type": "markdown",
      "metadata": {
        "collapsed": true,
        "id": "dQ0jlO7d5G7h"
      },
      "source": [
        "#### d) Retrieve the values from the 4th row in the above matrix"
      ]
    },
    {
      "cell_type": "code",
      "metadata": {
        "id": "ZnhBNbNL5G7i",
        "outputId": "a21cf351-e431-4c45-fa92-366dfbdc3bcf"
      },
      "source": [
        "simple_matrix[3,:]"
      ],
      "execution_count": null,
      "outputs": [
        {
          "output_type": "execute_result",
          "data": {
            "text/plain": [
              "array([31, 32, 33, 34, 35, 36, 37, 38, 39, 40])"
            ]
          },
          "metadata": {
            "tags": []
          },
          "execution_count": 20
        }
      ]
    },
    {
      "cell_type": "markdown",
      "metadata": {
        "collapsed": true,
        "id": "Vpi9eryO5G7i"
      },
      "source": [
        "#### e) Retrieve values from the 2nd & 4th rows in the above matrix"
      ]
    },
    {
      "cell_type": "code",
      "metadata": {
        "id": "_PnM1IiX5G7j",
        "outputId": "7e7dc359-2bf0-44b8-89e6-c187bd303203"
      },
      "source": [
        "simple_matrix[(1,3),:]"
      ],
      "execution_count": null,
      "outputs": [
        {
          "output_type": "execute_result",
          "data": {
            "text/plain": [
              "array([[11, 12, 13, 14, 15, 16, 17, 18, 19, 20],\n",
              "       [31, 32, 33, 34, 35, 36, 37, 38, 39, 40]])"
            ]
          },
          "metadata": {
            "tags": []
          },
          "execution_count": 21
        }
      ]
    },
    {
      "cell_type": "markdown",
      "metadata": {
        "id": "xdCjS4Dh5G7j"
      },
      "source": [
        "### Calculate the following values for the given matrix"
      ]
    },
    {
      "cell_type": "markdown",
      "metadata": {
        "id": "mi7-SQIP5G7k"
      },
      "source": [
        "#### a) Calculate sum of all the values in the matrix"
      ]
    },
    {
      "cell_type": "code",
      "metadata": {
        "id": "Wt1RR-Jf5G7k",
        "outputId": "6303db5d-03da-4138-b751-bd6326ac523a"
      },
      "source": [
        "simple_matrix.sum()"
      ],
      "execution_count": null,
      "outputs": [
        {
          "output_type": "execute_result",
          "data": {
            "text/plain": [
              "5050"
            ]
          },
          "metadata": {
            "tags": []
          },
          "execution_count": 22
        }
      ]
    },
    {
      "cell_type": "markdown",
      "metadata": {
        "id": "NnzIy2Qw5G7k"
      },
      "source": [
        "#### b) Calculate standard deviation of all the values in the matrix"
      ]
    },
    {
      "cell_type": "code",
      "metadata": {
        "id": "PeXMSeBS5G7l",
        "outputId": "e693b71d-621f-4369-d7ef-2107a1a46e50"
      },
      "source": [
        "simple_matrix.std()"
      ],
      "execution_count": null,
      "outputs": [
        {
          "output_type": "execute_result",
          "data": {
            "text/plain": [
              "28.866070047722118"
            ]
          },
          "metadata": {
            "tags": []
          },
          "execution_count": 23
        }
      ]
    },
    {
      "cell_type": "markdown",
      "metadata": {
        "id": "qg3UkjyT5G7l"
      },
      "source": [
        "#### c) Calculate the variance of all values in the matrix"
      ]
    },
    {
      "cell_type": "code",
      "metadata": {
        "id": "1rRXAKHt5G7m",
        "outputId": "53e810ec-e924-4179-c5b2-80944ba6fd46"
      },
      "source": [
        "simple_matrix.var()"
      ],
      "execution_count": null,
      "outputs": [
        {
          "output_type": "execute_result",
          "data": {
            "text/plain": [
              "833.25"
            ]
          },
          "metadata": {
            "tags": []
          },
          "execution_count": 24
        }
      ]
    },
    {
      "cell_type": "markdown",
      "metadata": {
        "collapsed": true,
        "id": "Q1qwpu5K5G7m"
      },
      "source": [
        "#### d) Calculate the mean of all values in the matrix"
      ]
    },
    {
      "cell_type": "code",
      "metadata": {
        "id": "jFvU718j5G7n",
        "outputId": "20bf7cec-8ce1-46eb-80d0-cb81a05cec90"
      },
      "source": [
        "simple_matrix.mean()"
      ],
      "execution_count": null,
      "outputs": [
        {
          "output_type": "execute_result",
          "data": {
            "text/plain": [
              "50.5"
            ]
          },
          "metadata": {
            "tags": []
          },
          "execution_count": 25
        }
      ]
    },
    {
      "cell_type": "markdown",
      "metadata": {
        "id": "oMG4jSi75G7n"
      },
      "source": [
        "#### e) Retrieve the largest number from the matrix"
      ]
    },
    {
      "cell_type": "code",
      "metadata": {
        "id": "_CCqO03M5G7n",
        "outputId": "f366d5c8-70eb-4d01-d3e1-27208636e734"
      },
      "source": [
        "simple_matrix.max()"
      ],
      "execution_count": null,
      "outputs": [
        {
          "output_type": "execute_result",
          "data": {
            "text/plain": [
              "100"
            ]
          },
          "metadata": {
            "tags": []
          },
          "execution_count": 26
        }
      ]
    },
    {
      "cell_type": "markdown",
      "metadata": {
        "id": "HXxkVrAH5G7o"
      },
      "source": [
        "#### f) Retrieve the smallest number from the matrix"
      ]
    },
    {
      "cell_type": "code",
      "metadata": {
        "id": "8IhFNMUt5G7o",
        "outputId": "cf9d7397-87ec-4f98-d367-5af404ac0657"
      },
      "source": [
        "simple_matrix.min()"
      ],
      "execution_count": null,
      "outputs": [
        {
          "output_type": "execute_result",
          "data": {
            "text/plain": [
              "1"
            ]
          },
          "metadata": {
            "tags": []
          },
          "execution_count": 27
        }
      ]
    },
    {
      "cell_type": "markdown",
      "metadata": {
        "id": "BbN7BKhU5G7p"
      },
      "source": [
        "### End of Lab Exercise - NumPy"
      ]
    }
  ]
}