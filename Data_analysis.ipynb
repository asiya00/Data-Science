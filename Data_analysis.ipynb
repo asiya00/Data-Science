{
  "nbformat": 4,
  "nbformat_minor": 0,
  "metadata": {
    "colab": {
      "name": "Data-analysis.ipynb",
      "private_outputs": true,
      "provenance": [],
      "include_colab_link": true
    },
    "kernelspec": {
      "name": "python3",
      "display_name": "Python 3"
    }
  },
  "cells": [
    {
      "cell_type": "markdown",
      "metadata": {
        "id": "view-in-github",
        "colab_type": "text"
      },
      "source": [
        "<a href=\"https://colab.research.google.com/github/asiya00/Data-Science/blob/main/Data_analysis.ipynb\" target=\"_parent\"><img src=\"https://colab.research.google.com/assets/colab-badge.svg\" alt=\"Open In Colab\"/></a>"
      ]
    },
    {
      "cell_type": "code",
      "metadata": {
        "id": "_AWEksrY49Oy"
      },
      "source": [
        "import pandas as pd\n",
        "import matplotlib.pyplot as plt\n"
      ],
      "execution_count": null,
      "outputs": []
    },
    {
      "cell_type": "code",
      "metadata": {
        "id": "nZAhdTr75nkx"
      },
      "source": [
        "#importing the data\n",
        "\n",
        "filename = \"https://s3-api.us-geo.objectstorage.softlayer.net/cf-courses-data/CognitiveClass/DA0101EN/auto.csv\""
      ],
      "execution_count": null,
      "outputs": []
    },
    {
      "cell_type": "code",
      "metadata": {
        "id": "lUO8A__W6JxC"
      },
      "source": [
        "headers = [\"symboling\",\"normalized-losses\",\"make\",\"fuel-type\",\"aspiration\", \"num-of-doors\",\"body-style\",\n",
        "         \"drive-wheels\",\"engine-location\",\"wheel-base\", \"length\",\"width\",\"height\",\"curb-weight\",\"engine-type\",\n",
        "         \"num-of-cylinders\", \"engine-size\",\"fuel-system\",\"bore\",\"stroke\",\"compression-ratio\",\"horsepower\",\n",
        "         \"peak-rpm\",\"city-mpg\",\"highway-mpg\",\"price\"]"
      ],
      "execution_count": null,
      "outputs": []
    },
    {
      "cell_type": "code",
      "metadata": {
        "id": "GAHF6NWL6Xkj"
      },
      "source": [
        "#dataframe\n",
        "df = pd.read_csv(filename, names=headers)"
      ],
      "execution_count": null,
      "outputs": []
    },
    {
      "cell_type": "code",
      "metadata": {
        "id": "jINw79fZ6w8y"
      },
      "source": [
        "#first few lines of df\n",
        "df.head()"
      ],
      "execution_count": null,
      "outputs": []
    },
    {
      "cell_type": "code",
      "metadata": {
        "id": "qUpHnUv9633u"
      },
      "source": [
        "#missing or garbage values\n",
        "import numpy as np\n",
        "\n",
        "df.replace(\"?\", np.nan, inplace=True)\n"
      ],
      "execution_count": null,
      "outputs": []
    },
    {
      "cell_type": "code",
      "metadata": {
        "id": "4KpiuJir8o7g"
      },
      "source": [
        "df.head()\n",
        "#? is replaced with Not a Number"
      ],
      "execution_count": null,
      "outputs": []
    },
    {
      "cell_type": "code",
      "metadata": {
        "id": "-Xm1Khob8x06"
      },
      "source": [
        "df.info()"
      ],
      "execution_count": null,
      "outputs": []
    },
    {
      "cell_type": "markdown",
      "metadata": {
        "id": "oOI9puWT9mjp"
      },
      "source": [
        "#price, peak-rpm, horsepower, bore, stroke, num-of-doors, normalized-losses"
      ]
    },
    {
      "cell_type": "code",
      "metadata": {
        "id": "XA_wS_l19wXo"
      },
      "source": [
        "#replace missing value with mean/average\n",
        "\n",
        "\n",
        "avg_normloss = df['normalized-losses'].astype('float').mean(axis='index')"
      ],
      "execution_count": null,
      "outputs": []
    },
    {
      "cell_type": "code",
      "metadata": {
        "id": "-K5IPCA3_6Cw"
      },
      "source": [
        "avg_normloss"
      ],
      "execution_count": null,
      "outputs": []
    },
    {
      "cell_type": "code",
      "metadata": {
        "id": "hW9FMh0a_9_8"
      },
      "source": [
        "df['normalized-losses'].replace(np.nan, avg_normloss, inplace=True)"
      ],
      "execution_count": null,
      "outputs": []
    },
    {
      "cell_type": "code",
      "metadata": {
        "id": "CzBlR4A0ALQg"
      },
      "source": [
        "df.head(10)"
      ],
      "execution_count": null,
      "outputs": []
    },
    {
      "cell_type": "code",
      "metadata": {
        "id": "3WvkamAtAuSp"
      },
      "source": [
        "#bore\n",
        "\n",
        "avg_bore = df['bore'].astype('float').mean(axis='index')\n",
        "\n",
        "df['bore'].replace(np.nan, avg_bore, inplace=True)"
      ],
      "execution_count": null,
      "outputs": []
    },
    {
      "cell_type": "code",
      "metadata": {
        "id": "M4KBDl3HAxXT"
      },
      "source": [
        "#stroke\n",
        "\n",
        "\n",
        "avg_stroke = df['stroke'].astype('float').mean(axis='index')\n",
        "\n",
        "df['stroke'].replace(np.nan, avg_stroke, inplace=True)"
      ],
      "execution_count": null,
      "outputs": []
    },
    {
      "cell_type": "code",
      "metadata": {
        "id": "mhZAKn7OB1DA"
      },
      "source": [
        "#horsepower\n",
        "\n",
        "avg_horsepower = df['horsepower'].astype('float').mean(axis='index')\n",
        "\n",
        "df['horsepower'].replace(np.nan, avg_horsepower, inplace=True)"
      ],
      "execution_count": null,
      "outputs": []
    },
    {
      "cell_type": "code",
      "metadata": {
        "id": "KY9_SUh4B4gB"
      },
      "source": [
        "#peak-rpm\n",
        "\n",
        "avg_peakrpm = df['peak-rpm'].astype('float').mean(axis='index')\n",
        "\n",
        "df['peak-rpm'].replace(np.nan, avg_peakrpm, inplace=True)"
      ],
      "execution_count": null,
      "outputs": []
    },
    {
      "cell_type": "code",
      "metadata": {
        "id": "K3PmLrVhCKI6"
      },
      "source": [
        "#num-of-doors\n",
        "#Average might give a float and a car cannot have a decimal number of doors\n",
        "#replacing missing value with mode - value that maximum times in the columns\n",
        "\n",
        "df['num-of-doors'].value_counts()\n",
        "\n",
        "\n"
      ],
      "execution_count": null,
      "outputs": []
    },
    {
      "cell_type": "code",
      "metadata": {
        "id": "DedCkiPYDj_X"
      },
      "source": [
        "df['num-of-doors'].replace(np.nan, \"four\", inplace=True)"
      ],
      "execution_count": null,
      "outputs": []
    },
    {
      "cell_type": "code",
      "metadata": {
        "id": "exHdzdTUDucY"
      },
      "source": [
        "df.info()"
      ],
      "execution_count": null,
      "outputs": []
    },
    {
      "cell_type": "code",
      "metadata": {
        "id": "xqPTcsvVD7dZ"
      },
      "source": [
        "#price\n",
        "#delete rows for missing values in target variable\n",
        "#axis = 'index' (rows) and axis='columns' (columns)\n",
        "\n",
        "df.dropna(subset=['price'], axis='index', inplace=True)"
      ],
      "execution_count": null,
      "outputs": []
    },
    {
      "cell_type": "code",
      "metadata": {
        "id": "6g0qoop0E9n3"
      },
      "source": [
        "df"
      ],
      "execution_count": null,
      "outputs": []
    },
    {
      "cell_type": "code",
      "metadata": {
        "id": "EFuQ6zgkFxSO"
      },
      "source": [
        "df.reset_index(drop=True, inplace=True)"
      ],
      "execution_count": null,
      "outputs": []
    },
    {
      "cell_type": "code",
      "metadata": {
        "id": "NFXso3Z6F8Se"
      },
      "source": [
        "df"
      ],
      "execution_count": null,
      "outputs": []
    },
    {
      "cell_type": "code",
      "metadata": {
        "id": "xFy2Fm-KGV5V"
      },
      "source": [
        "df.info()"
      ],
      "execution_count": null,
      "outputs": []
    },
    {
      "cell_type": "code",
      "metadata": {
        "id": "8GSacweKGXgH"
      },
      "source": [
        "#summary\n",
        "#drop\n",
        "#replace with mean/average\n",
        "#replace with mode/highest frequency"
      ],
      "execution_count": null,
      "outputs": []
    },
    {
      "cell_type": "code",
      "metadata": {
        "id": "o_FwDIvOGnCm"
      },
      "source": [
        "df.dtypes"
      ],
      "execution_count": null,
      "outputs": []
    },
    {
      "cell_type": "code",
      "metadata": {
        "id": "CZvezHzvG6Ok"
      },
      "source": [
        "df.head()"
      ],
      "execution_count": null,
      "outputs": []
    },
    {
      "cell_type": "code",
      "metadata": {
        "id": "Zt-5yZVRG7hJ"
      },
      "source": [
        "df[['bore',\"stroke\",\"price\",\"peak-rpm\"]] = df[['bore',\"stroke\",\"price\",\"peak-rpm\"]].astype('float')\n",
        "\n",
        "df[['normalized-losses']] = df[['normalized-losses']].astype('int')"
      ],
      "execution_count": null,
      "outputs": []
    },
    {
      "cell_type": "code",
      "metadata": {
        "id": "ad_A1vIGH6Yx"
      },
      "source": [
        "df.dtypes"
      ],
      "execution_count": null,
      "outputs": []
    },
    {
      "cell_type": "code",
      "metadata": {
        "id": "WDVmXlZjIVXb"
      },
      "source": [
        "df[['horsepower']] = df[['horsepower']].astype('int')"
      ],
      "execution_count": null,
      "outputs": []
    },
    {
      "cell_type": "code",
      "metadata": {
        "id": "RD1QYiQpIhnU"
      },
      "source": [
        "#Convert mpg to Lt per 100km\n",
        "#L/100km = 235/mpg\n",
        "\n",
        "df['city-L/100km'] = 235/df['city-mpg']\n",
        "\n",
        "df['highway-L/100km'] = 235/df['highway-mpg']"
      ],
      "execution_count": null,
      "outputs": []
    },
    {
      "cell_type": "code",
      "metadata": {
        "id": "9eNHgrV0JKj1"
      },
      "source": [
        "df.head()"
      ],
      "execution_count": null,
      "outputs": []
    },
    {
      "cell_type": "code",
      "metadata": {
        "id": "ArJTBTLjJSgA"
      },
      "source": [
        ""
      ],
      "execution_count": null,
      "outputs": []
    }
  ]
}