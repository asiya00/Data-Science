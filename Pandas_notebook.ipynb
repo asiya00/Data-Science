{
  "nbformat": 4,
  "nbformat_minor": 0,
  "metadata": {
    "colab": {
      "name": "Pandas notebook.ipynb",
      "provenance": [],
      "collapsed_sections": [],
      "authorship_tag": "ABX9TyNrv5iYOQf2yoV+qHP7OTma",
      "include_colab_link": true
    },
    "kernelspec": {
      "name": "python3",
      "display_name": "Python 3"
    }
  },
  "cells": [
    {
      "cell_type": "markdown",
      "metadata": {
        "id": "view-in-github",
        "colab_type": "text"
      },
      "source": [
        "<a href=\"https://colab.research.google.com/github/asiya00/Data-Science/blob/main/Pandas_notebook.ipynb\" target=\"_parent\"><img src=\"https://colab.research.google.com/assets/colab-badge.svg\" alt=\"Open In Colab\"/></a>"
      ]
    },
    {
      "cell_type": "markdown",
      "metadata": {
        "id": "AW9-yDKonJNj"
      },
      "source": [
        "# Pandas is used for data manipulation, analysis and cleaning"
      ]
    },
    {
      "cell_type": "markdown",
      "metadata": {
        "id": "oJadwajMnoZM"
      },
      "source": [
        "* DataFrame is a 2-Dimensional, size-mutable, potentially hetrogenous tabular data\n",
        "* Series is 1-Dimensional labelled array capable of holding data of any type"
      ]
    },
    {
      "cell_type": "code",
      "metadata": {
        "id": "Pqq2zFUNJz_x"
      },
      "source": [
        "import pandas as pd\n",
        "import numpy as np"
      ],
      "execution_count": null,
      "outputs": []
    },
    {
      "cell_type": "code",
      "metadata": {
        "colab": {
          "base_uri": "https://localhost:8080/"
        },
        "id": "qdsQ1CsCOkNu",
        "outputId": "84017d1a-80a4-4186-a9cc-4dba2f8f735a"
      },
      "source": [
        "pd.Series([1,2,3,4,5],index=[1,2,3,4,5])"
      ],
      "execution_count": null,
      "outputs": [
        {
          "output_type": "execute_result",
          "data": {
            "text/plain": [
              "1    1\n",
              "2    2\n",
              "3    3\n",
              "4    4\n",
              "5    5\n",
              "dtype: int64"
            ]
          },
          "metadata": {
            "tags": []
          },
          "execution_count": 5
        }
      ]
    },
    {
      "cell_type": "code",
      "metadata": {
        "id": "23iYG-VnQWi9"
      },
      "source": [
        "Heights=[1.2,'3.5','4.5',6.5]"
      ],
      "execution_count": null,
      "outputs": []
    },
    {
      "cell_type": "code",
      "metadata": {
        "colab": {
          "base_uri": "https://localhost:8080/"
        },
        "id": "kCdpu3V713S6",
        "outputId": "f17f0b0a-58e7-4094-ed99-cc5959f36728"
      },
      "source": [
        "pd.Series(Heights)"
      ],
      "execution_count": null,
      "outputs": [
        {
          "output_type": "execute_result",
          "data": {
            "text/plain": [
              "0    1.2\n",
              "1    3.5\n",
              "2    4.5\n",
              "3    6.5\n",
              "dtype: object"
            ]
          },
          "metadata": {
            "tags": []
          },
          "execution_count": 30
        }
      ]
    },
    {
      "cell_type": "code",
      "metadata": {
        "id": "R1DZz1nD2AJN"
      },
      "source": [
        "Heights=[1,3.5,4,6]"
      ],
      "execution_count": null,
      "outputs": []
    },
    {
      "cell_type": "code",
      "metadata": {
        "colab": {
          "base_uri": "https://localhost:8080/"
        },
        "id": "pXERnt3P2Qls",
        "outputId": "5cf6ca28-1d32-4805-9221-729e891c89a6"
      },
      "source": [
        "pd.Series(Heights)"
      ],
      "execution_count": null,
      "outputs": [
        {
          "output_type": "execute_result",
          "data": {
            "text/plain": [
              "0    1.0\n",
              "1    3.5\n",
              "2    4.0\n",
              "3    6.0\n",
              "dtype: float64"
            ]
          },
          "metadata": {
            "tags": []
          },
          "execution_count": 12
        }
      ]
    },
    {
      "cell_type": "code",
      "metadata": {
        "id": "EaAPzKct2aGy"
      },
      "source": [
        "Heights=[1,'3.5',4,6]"
      ],
      "execution_count": null,
      "outputs": []
    },
    {
      "cell_type": "code",
      "metadata": {
        "id": "4rdk8lzm2olR"
      },
      "source": [
        "b=np.array(Heights)"
      ],
      "execution_count": null,
      "outputs": []
    },
    {
      "cell_type": "code",
      "metadata": {
        "colab": {
          "base_uri": "https://localhost:8080/"
        },
        "id": "uCBRySWo3ohE",
        "outputId": "03c4bde8-e50f-4d06-8258-dca7aafdf301"
      },
      "source": [
        "b"
      ],
      "execution_count": null,
      "outputs": [
        {
          "output_type": "execute_result",
          "data": {
            "text/plain": [
              "array(['1', '3.5', '4', '6'], dtype='<U21')"
            ]
          },
          "metadata": {
            "tags": []
          },
          "execution_count": 28
        }
      ]
    },
    {
      "cell_type": "markdown",
      "metadata": {
        "id": "RI9XrBw2nu1w"
      },
      "source": [
        "* U = Unicode\n",
        "* 21 = Size"
      ]
    },
    {
      "cell_type": "code",
      "metadata": {
        "colab": {
          "base_uri": "https://localhost:8080/"
        },
        "id": "wjK5IcQO2w5e",
        "outputId": "bf8b937b-f63a-4c67-bea6-ee5e01f8d16e"
      },
      "source": [
        "b.dtype"
      ],
      "execution_count": null,
      "outputs": [
        {
          "output_type": "execute_result",
          "data": {
            "text/plain": [
              "dtype('<U21')"
            ]
          },
          "metadata": {
            "tags": []
          },
          "execution_count": 25
        }
      ]
    },
    {
      "cell_type": "code",
      "metadata": {
        "id": "5nJt4_GR30g_"
      },
      "source": [
        "b= pd.Series(Heights)"
      ],
      "execution_count": null,
      "outputs": []
    },
    {
      "cell_type": "code",
      "metadata": {
        "id": "KKKHNga05m_o",
        "colab": {
          "base_uri": "https://localhost:8080/"
        },
        "outputId": "2b6501c4-fc0c-4618-ea31-b49a60486a9c"
      },
      "source": [
        "b.index"
      ],
      "execution_count": null,
      "outputs": [
        {
          "output_type": "execute_result",
          "data": {
            "text/plain": [
              "RangeIndex(start=0, stop=4, step=1)"
            ]
          },
          "metadata": {
            "tags": []
          },
          "execution_count": 33
        }
      ]
    },
    {
      "cell_type": "code",
      "metadata": {
        "colab": {
          "base_uri": "https://localhost:8080/"
        },
        "id": "I3Jcc2hBIFRX",
        "outputId": "2fd8974e-58b0-4010-c580-0501dc0b138d"
      },
      "source": [
        "np.linspace(2,3,num=4, endpoint= True,retstep=True)"
      ],
      "execution_count": null,
      "outputs": [
        {
          "output_type": "execute_result",
          "data": {
            "text/plain": [
              "(array([2.        , 2.33333333, 2.66666667, 3.        ]), 0.3333333333333333)"
            ]
          },
          "metadata": {
            "tags": []
          },
          "execution_count": 319
        }
      ]
    },
    {
      "cell_type": "code",
      "metadata": {
        "id": "1rSbxc5XPaLz"
      },
      "source": [
        "b=pd.Series([1,3.5,4,6])"
      ],
      "execution_count": null,
      "outputs": []
    },
    {
      "cell_type": "markdown",
      "metadata": {
        "id": "dKcP3ZzSQJWT"
      },
      "source": [
        "* Method is a function bound to an object\n",
        "* Attribute is a variable bound to an object"
      ]
    },
    {
      "cell_type": "code",
      "metadata": {
        "id": "PEPZ9i4pIQwC"
      },
      "source": [
        "c = pd.Series(Heights).size"
      ],
      "execution_count": null,
      "outputs": []
    },
    {
      "cell_type": "code",
      "metadata": {
        "colab": {
          "base_uri": "https://localhost:8080/"
        },
        "id": "zvsCKk8VPkRR",
        "outputId": "3890f159-a3be-4d44-c854-a51758f79e63"
      },
      "source": [
        "c"
      ],
      "execution_count": null,
      "outputs": [
        {
          "output_type": "execute_result",
          "data": {
            "text/plain": [
              "4"
            ]
          },
          "metadata": {
            "tags": []
          },
          "execution_count": 55
        }
      ]
    },
    {
      "cell_type": "code",
      "metadata": {
        "id": "gjI4iuO1Rp20"
      },
      "source": [
        "a=b"
      ],
      "execution_count": null,
      "outputs": []
    },
    {
      "cell_type": "code",
      "metadata": {
        "colab": {
          "base_uri": "https://localhost:8080/"
        },
        "id": "FaG5D95lR6bA",
        "outputId": "c1d1e22f-2f83-4508-a41a-d55c61f25d66"
      },
      "source": [
        "a"
      ],
      "execution_count": null,
      "outputs": [
        {
          "output_type": "execute_result",
          "data": {
            "text/plain": [
              "0    1.0\n",
              "1    3.5\n",
              "2    4.0\n",
              "3    6.0\n",
              "dtype: float64"
            ]
          },
          "metadata": {
            "tags": []
          },
          "execution_count": 70
        }
      ]
    },
    {
      "cell_type": "code",
      "metadata": {
        "colab": {
          "base_uri": "https://localhost:8080/"
        },
        "id": "zklFGozXSIuL",
        "outputId": "4406ab98-2848-4b25-8222-164942473b21"
      },
      "source": [
        "a.equals(b)"
      ],
      "execution_count": null,
      "outputs": [
        {
          "output_type": "execute_result",
          "data": {
            "text/plain": [
              "True"
            ]
          },
          "metadata": {
            "tags": []
          },
          "execution_count": 71
        }
      ]
    },
    {
      "cell_type": "code",
      "metadata": {
        "colab": {
          "base_uri": "https://localhost:8080/"
        },
        "id": "nJeNVnNBSe-2",
        "outputId": "8cd6c545-728d-4416-eb89-159b80844902"
      },
      "source": [
        " \n",
        "#default None\n",
        "a.name == None"
      ],
      "execution_count": null,
      "outputs": [
        {
          "output_type": "execute_result",
          "data": {
            "text/plain": [
              "True"
            ]
          },
          "metadata": {
            "tags": []
          },
          "execution_count": 74
        }
      ]
    },
    {
      "cell_type": "code",
      "metadata": {
        "id": "PxCV4a1bTBuR"
      },
      "source": [
        "a.name='Numbers'"
      ],
      "execution_count": null,
      "outputs": []
    },
    {
      "cell_type": "code",
      "metadata": {
        "colab": {
          "base_uri": "https://localhost:8080/"
        },
        "id": "oN2jY1wCTGmc",
        "outputId": "dd514f1b-535d-44c7-835f-70679c5334da"
      },
      "source": [
        "a"
      ],
      "execution_count": null,
      "outputs": [
        {
          "output_type": "execute_result",
          "data": {
            "text/plain": [
              "0    1.0\n",
              "1    3.5\n",
              "2    4.0\n",
              "3    6.0\n",
              "Name: Numbers, dtype: float64"
            ]
          },
          "metadata": {
            "tags": []
          },
          "execution_count": 76
        }
      ]
    },
    {
      "cell_type": "code",
      "metadata": {
        "colab": {
          "base_uri": "https://localhost:8080/"
        },
        "id": "yHj78A9zTYLR",
        "outputId": "ce348bdf-805e-4f18-9c1f-34d8132aaf7e"
      },
      "source": [
        "a.index.name=\"Sr.no\"\n",
        "a"
      ],
      "execution_count": null,
      "outputs": [
        {
          "output_type": "execute_result",
          "data": {
            "text/plain": [
              "Sr.no\n",
              "0    1.0\n",
              "1    3.5\n",
              "2    4.0\n",
              "3    6.0\n",
              "Name: Numbers, dtype: float64"
            ]
          },
          "metadata": {
            "tags": []
          },
          "execution_count": 77
        }
      ]
    },
    {
      "cell_type": "code",
      "metadata": {
        "id": "KaSDGH9pgdsC"
      },
      "source": [
        "d = pd.date_range(\"20210225\", periods=2)"
      ],
      "execution_count": null,
      "outputs": []
    },
    {
      "cell_type": "code",
      "metadata": {
        "colab": {
          "base_uri": "https://localhost:8080/"
        },
        "id": "kB2hvIpgkviw",
        "outputId": "5fd4f40e-35fb-413e-906f-5380c8e24200"
      },
      "source": [
        "d"
      ],
      "execution_count": null,
      "outputs": [
        {
          "output_type": "execute_result",
          "data": {
            "text/plain": [
              "DatetimeIndex(['2021-02-25', '2021-02-26'], dtype='datetime64[ns]', freq='D')"
            ]
          },
          "metadata": {
            "tags": []
          },
          "execution_count": 100
        }
      ]
    },
    {
      "cell_type": "code",
      "metadata": {
        "colab": {
          "base_uri": "https://localhost:8080/",
          "height": 106
        },
        "id": "CZ8_CNrPhPKH",
        "outputId": "bc20fb57-2ee4-4704-b194-8d4ee874699f"
      },
      "source": [
        "df = pd.DataFrame(np.random.randn(2,4), index=d,columns=['A','B','C','D'])\n",
        "df"
      ],
      "execution_count": null,
      "outputs": [
        {
          "output_type": "execute_result",
          "data": {
            "text/html": [
              "<div>\n",
              "<style scoped>\n",
              "    .dataframe tbody tr th:only-of-type {\n",
              "        vertical-align: middle;\n",
              "    }\n",
              "\n",
              "    .dataframe tbody tr th {\n",
              "        vertical-align: top;\n",
              "    }\n",
              "\n",
              "    .dataframe thead th {\n",
              "        text-align: right;\n",
              "    }\n",
              "</style>\n",
              "<table border=\"1\" class=\"dataframe\">\n",
              "  <thead>\n",
              "    <tr style=\"text-align: right;\">\n",
              "      <th></th>\n",
              "      <th>A</th>\n",
              "      <th>B</th>\n",
              "      <th>C</th>\n",
              "      <th>D</th>\n",
              "    </tr>\n",
              "  </thead>\n",
              "  <tbody>\n",
              "    <tr>\n",
              "      <th>2021-02-25</th>\n",
              "      <td>0.316477</td>\n",
              "      <td>-0.144339</td>\n",
              "      <td>-0.173174</td>\n",
              "      <td>-0.461841</td>\n",
              "    </tr>\n",
              "    <tr>\n",
              "      <th>2021-02-26</th>\n",
              "      <td>-0.184344</td>\n",
              "      <td>0.480628</td>\n",
              "      <td>1.679986</td>\n",
              "      <td>1.565173</td>\n",
              "    </tr>\n",
              "  </tbody>\n",
              "</table>\n",
              "</div>"
            ],
            "text/plain": [
              "                   A         B         C         D\n",
              "2021-02-25  0.316477 -0.144339 -0.173174 -0.461841\n",
              "2021-02-26 -0.184344  0.480628  1.679986  1.565173"
            ]
          },
          "metadata": {
            "tags": []
          },
          "execution_count": 102
        }
      ]
    },
    {
      "cell_type": "code",
      "metadata": {
        "colab": {
          "base_uri": "https://localhost:8080/",
          "height": 106
        },
        "id": "y_V3OLqQls5l",
        "outputId": "e2965afd-2457-4985-e10f-c96e8a17de4f"
      },
      "source": [
        "df = pd.DataFrame([[1,2,3,4,5],[6,7,8,9,10]], index = d, columns = np.arange(0,5) )\n",
        "df"
      ],
      "execution_count": null,
      "outputs": [
        {
          "output_type": "execute_result",
          "data": {
            "text/html": [
              "<div>\n",
              "<style scoped>\n",
              "    .dataframe tbody tr th:only-of-type {\n",
              "        vertical-align: middle;\n",
              "    }\n",
              "\n",
              "    .dataframe tbody tr th {\n",
              "        vertical-align: top;\n",
              "    }\n",
              "\n",
              "    .dataframe thead th {\n",
              "        text-align: right;\n",
              "    }\n",
              "</style>\n",
              "<table border=\"1\" class=\"dataframe\">\n",
              "  <thead>\n",
              "    <tr style=\"text-align: right;\">\n",
              "      <th></th>\n",
              "      <th>0</th>\n",
              "      <th>1</th>\n",
              "      <th>2</th>\n",
              "      <th>3</th>\n",
              "      <th>4</th>\n",
              "    </tr>\n",
              "  </thead>\n",
              "  <tbody>\n",
              "    <tr>\n",
              "      <th>2021-02-25</th>\n",
              "      <td>1</td>\n",
              "      <td>2</td>\n",
              "      <td>3</td>\n",
              "      <td>4</td>\n",
              "      <td>5</td>\n",
              "    </tr>\n",
              "    <tr>\n",
              "      <th>2021-02-26</th>\n",
              "      <td>6</td>\n",
              "      <td>7</td>\n",
              "      <td>8</td>\n",
              "      <td>9</td>\n",
              "      <td>10</td>\n",
              "    </tr>\n",
              "  </tbody>\n",
              "</table>\n",
              "</div>"
            ],
            "text/plain": [
              "            0  1  2  3   4\n",
              "2021-02-25  1  2  3  4   5\n",
              "2021-02-26  6  7  8  9  10"
            ]
          },
          "metadata": {
            "tags": []
          },
          "execution_count": 106
        }
      ]
    },
    {
      "cell_type": "code",
      "metadata": {
        "id": "FQYc66PxnAEW"
      },
      "source": [
        "df = pd.DataFrame({'A' : [1,2,3,4,5],\n",
        "                   'B' : pd.date_range('20200225' , periods=5),\n",
        "                   'C' : pd.Series(1, index=(np.arange(5))),\n",
        "                   'D' : pd.Series(5, index=(np.arange(5))),\n",
        "                   'E' : pd.Categorical([\"Train\",\"Train\",\"Test\",\"Train\",\"Test\"]),\n",
        "                   'F' : 'Workshop'})"
      ],
      "execution_count": null,
      "outputs": []
    },
    {
      "cell_type": "code",
      "metadata": {
        "colab": {
          "base_uri": "https://localhost:8080/",
          "height": 195
        },
        "id": "-6geUYiSsNiA",
        "outputId": "5a64958d-55c7-4a1f-aaf9-fb62072238ef"
      },
      "source": [
        "df"
      ],
      "execution_count": null,
      "outputs": [
        {
          "output_type": "execute_result",
          "data": {
            "text/html": [
              "<div>\n",
              "<style scoped>\n",
              "    .dataframe tbody tr th:only-of-type {\n",
              "        vertical-align: middle;\n",
              "    }\n",
              "\n",
              "    .dataframe tbody tr th {\n",
              "        vertical-align: top;\n",
              "    }\n",
              "\n",
              "    .dataframe thead th {\n",
              "        text-align: right;\n",
              "    }\n",
              "</style>\n",
              "<table border=\"1\" class=\"dataframe\">\n",
              "  <thead>\n",
              "    <tr style=\"text-align: right;\">\n",
              "      <th></th>\n",
              "      <th>A</th>\n",
              "      <th>B</th>\n",
              "      <th>C</th>\n",
              "      <th>D</th>\n",
              "      <th>E</th>\n",
              "      <th>F</th>\n",
              "    </tr>\n",
              "  </thead>\n",
              "  <tbody>\n",
              "    <tr>\n",
              "      <th>0</th>\n",
              "      <td>1</td>\n",
              "      <td>2020-02-25</td>\n",
              "      <td>1</td>\n",
              "      <td>5</td>\n",
              "      <td>Train</td>\n",
              "      <td>Workshop</td>\n",
              "    </tr>\n",
              "    <tr>\n",
              "      <th>1</th>\n",
              "      <td>2</td>\n",
              "      <td>2020-02-26</td>\n",
              "      <td>1</td>\n",
              "      <td>5</td>\n",
              "      <td>Train</td>\n",
              "      <td>Workshop</td>\n",
              "    </tr>\n",
              "    <tr>\n",
              "      <th>2</th>\n",
              "      <td>3</td>\n",
              "      <td>2020-02-27</td>\n",
              "      <td>1</td>\n",
              "      <td>5</td>\n",
              "      <td>Test</td>\n",
              "      <td>Workshop</td>\n",
              "    </tr>\n",
              "    <tr>\n",
              "      <th>3</th>\n",
              "      <td>4</td>\n",
              "      <td>2020-02-28</td>\n",
              "      <td>1</td>\n",
              "      <td>5</td>\n",
              "      <td>Train</td>\n",
              "      <td>Workshop</td>\n",
              "    </tr>\n",
              "    <tr>\n",
              "      <th>4</th>\n",
              "      <td>5</td>\n",
              "      <td>2020-02-29</td>\n",
              "      <td>1</td>\n",
              "      <td>5</td>\n",
              "      <td>Test</td>\n",
              "      <td>Workshop</td>\n",
              "    </tr>\n",
              "  </tbody>\n",
              "</table>\n",
              "</div>"
            ],
            "text/plain": [
              "   A          B  C  D      E         F\n",
              "0  1 2020-02-25  1  5  Train  Workshop\n",
              "1  2 2020-02-26  1  5  Train  Workshop\n",
              "2  3 2020-02-27  1  5   Test  Workshop\n",
              "3  4 2020-02-28  1  5  Train  Workshop\n",
              "4  5 2020-02-29  1  5   Test  Workshop"
            ]
          },
          "metadata": {
            "tags": []
          },
          "execution_count": 228
        }
      ]
    },
    {
      "cell_type": "code",
      "metadata": {
        "colab": {
          "base_uri": "https://localhost:8080/"
        },
        "id": "GMMrzliLsOiK",
        "outputId": "05a2f7dc-0ede-4e40-f90f-3598ae7821d2"
      },
      "source": [
        "df.dtypes"
      ],
      "execution_count": null,
      "outputs": [
        {
          "output_type": "execute_result",
          "data": {
            "text/plain": [
              "A             int64\n",
              "B    datetime64[ns]\n",
              "C             int64\n",
              "D             int64\n",
              "E          category\n",
              "F            object\n",
              "dtype: object"
            ]
          },
          "metadata": {
            "tags": []
          },
          "execution_count": 229
        }
      ]
    },
    {
      "cell_type": "markdown",
      "metadata": {
        "id": "nRg182_ts6Av"
      },
      "source": [
        "* How to View Data?"
      ]
    },
    {
      "cell_type": "code",
      "metadata": {
        "colab": {
          "base_uri": "https://localhost:8080/"
        },
        "id": "zoCQafSDsfaR",
        "outputId": "4a8f3d20-91dc-4ee1-a0d1-afed73b16840"
      },
      "source": [
        "df.to_numpy()"
      ],
      "execution_count": null,
      "outputs": [
        {
          "output_type": "execute_result",
          "data": {
            "text/plain": [
              "array([[1, Timestamp('2020-02-25 00:00:00'), 1, 5, 'Train', 'Workshop'],\n",
              "       [2, Timestamp('2020-02-26 00:00:00'), 1, 5, 'Train', 'Workshop'],\n",
              "       [3, Timestamp('2020-02-27 00:00:00'), 1, 5, 'Test', 'Workshop'],\n",
              "       [4, Timestamp('2020-02-28 00:00:00'), 1, 5, 'Train', 'Workshop'],\n",
              "       [5, Timestamp('2020-02-29 00:00:00'), 1, 5, 'Test', 'Workshop']],\n",
              "      dtype=object)"
            ]
          },
          "metadata": {
            "tags": []
          },
          "execution_count": 230
        }
      ]
    },
    {
      "cell_type": "code",
      "metadata": {
        "colab": {
          "base_uri": "https://localhost:8080/",
          "height": 284
        },
        "id": "NEKAnZE7vOYu",
        "outputId": "1aa40c98-ab54-4d60-e590-b49f6b8b3754"
      },
      "source": [
        "df.describe()"
      ],
      "execution_count": null,
      "outputs": [
        {
          "output_type": "execute_result",
          "data": {
            "text/html": [
              "<div>\n",
              "<style scoped>\n",
              "    .dataframe tbody tr th:only-of-type {\n",
              "        vertical-align: middle;\n",
              "    }\n",
              "\n",
              "    .dataframe tbody tr th {\n",
              "        vertical-align: top;\n",
              "    }\n",
              "\n",
              "    .dataframe thead th {\n",
              "        text-align: right;\n",
              "    }\n",
              "</style>\n",
              "<table border=\"1\" class=\"dataframe\">\n",
              "  <thead>\n",
              "    <tr style=\"text-align: right;\">\n",
              "      <th></th>\n",
              "      <th>A</th>\n",
              "      <th>C</th>\n",
              "      <th>D</th>\n",
              "    </tr>\n",
              "  </thead>\n",
              "  <tbody>\n",
              "    <tr>\n",
              "      <th>count</th>\n",
              "      <td>5.000000</td>\n",
              "      <td>5.0</td>\n",
              "      <td>5.0</td>\n",
              "    </tr>\n",
              "    <tr>\n",
              "      <th>mean</th>\n",
              "      <td>3.000000</td>\n",
              "      <td>1.0</td>\n",
              "      <td>5.0</td>\n",
              "    </tr>\n",
              "    <tr>\n",
              "      <th>std</th>\n",
              "      <td>1.581139</td>\n",
              "      <td>0.0</td>\n",
              "      <td>0.0</td>\n",
              "    </tr>\n",
              "    <tr>\n",
              "      <th>min</th>\n",
              "      <td>1.000000</td>\n",
              "      <td>1.0</td>\n",
              "      <td>5.0</td>\n",
              "    </tr>\n",
              "    <tr>\n",
              "      <th>25%</th>\n",
              "      <td>2.000000</td>\n",
              "      <td>1.0</td>\n",
              "      <td>5.0</td>\n",
              "    </tr>\n",
              "    <tr>\n",
              "      <th>50%</th>\n",
              "      <td>3.000000</td>\n",
              "      <td>1.0</td>\n",
              "      <td>5.0</td>\n",
              "    </tr>\n",
              "    <tr>\n",
              "      <th>75%</th>\n",
              "      <td>4.000000</td>\n",
              "      <td>1.0</td>\n",
              "      <td>5.0</td>\n",
              "    </tr>\n",
              "    <tr>\n",
              "      <th>max</th>\n",
              "      <td>5.000000</td>\n",
              "      <td>1.0</td>\n",
              "      <td>5.0</td>\n",
              "    </tr>\n",
              "  </tbody>\n",
              "</table>\n",
              "</div>"
            ],
            "text/plain": [
              "              A    C    D\n",
              "count  5.000000  5.0  5.0\n",
              "mean   3.000000  1.0  5.0\n",
              "std    1.581139  0.0  0.0\n",
              "min    1.000000  1.0  5.0\n",
              "25%    2.000000  1.0  5.0\n",
              "50%    3.000000  1.0  5.0\n",
              "75%    4.000000  1.0  5.0\n",
              "max    5.000000  1.0  5.0"
            ]
          },
          "metadata": {
            "tags": []
          },
          "execution_count": 231
        }
      ]
    },
    {
      "cell_type": "code",
      "metadata": {
        "id": "JMhxCblBv0Ut"
      },
      "source": [
        "d1 = pd.date_range(\"20210225\", periods=10)"
      ],
      "execution_count": null,
      "outputs": []
    },
    {
      "cell_type": "code",
      "metadata": {
        "colab": {
          "base_uri": "https://localhost:8080/",
          "height": 343
        },
        "id": "CAjly2fTvZma",
        "outputId": "54c1eca1-b551-492f-cb29-f63dfd508c2c"
      },
      "source": [
        "df1 = pd.DataFrame(np.random.randn(10,4), index=d1,columns=['A','B','C','D'])\n",
        "df1"
      ],
      "execution_count": null,
      "outputs": [
        {
          "output_type": "execute_result",
          "data": {
            "text/html": [
              "<div>\n",
              "<style scoped>\n",
              "    .dataframe tbody tr th:only-of-type {\n",
              "        vertical-align: middle;\n",
              "    }\n",
              "\n",
              "    .dataframe tbody tr th {\n",
              "        vertical-align: top;\n",
              "    }\n",
              "\n",
              "    .dataframe thead th {\n",
              "        text-align: right;\n",
              "    }\n",
              "</style>\n",
              "<table border=\"1\" class=\"dataframe\">\n",
              "  <thead>\n",
              "    <tr style=\"text-align: right;\">\n",
              "      <th></th>\n",
              "      <th>A</th>\n",
              "      <th>B</th>\n",
              "      <th>C</th>\n",
              "      <th>D</th>\n",
              "    </tr>\n",
              "  </thead>\n",
              "  <tbody>\n",
              "    <tr>\n",
              "      <th>2021-02-25</th>\n",
              "      <td>-0.223142</td>\n",
              "      <td>0.172563</td>\n",
              "      <td>1.328213</td>\n",
              "      <td>-0.396174</td>\n",
              "    </tr>\n",
              "    <tr>\n",
              "      <th>2021-02-26</th>\n",
              "      <td>-0.258195</td>\n",
              "      <td>-0.898269</td>\n",
              "      <td>1.534004</td>\n",
              "      <td>2.230910</td>\n",
              "    </tr>\n",
              "    <tr>\n",
              "      <th>2021-02-27</th>\n",
              "      <td>-0.144576</td>\n",
              "      <td>0.857741</td>\n",
              "      <td>0.631783</td>\n",
              "      <td>2.730759</td>\n",
              "    </tr>\n",
              "    <tr>\n",
              "      <th>2021-02-28</th>\n",
              "      <td>-0.563964</td>\n",
              "      <td>0.682976</td>\n",
              "      <td>0.134919</td>\n",
              "      <td>-0.036175</td>\n",
              "    </tr>\n",
              "    <tr>\n",
              "      <th>2021-03-01</th>\n",
              "      <td>-0.516415</td>\n",
              "      <td>-0.140086</td>\n",
              "      <td>-0.331659</td>\n",
              "      <td>0.845632</td>\n",
              "    </tr>\n",
              "    <tr>\n",
              "      <th>2021-03-02</th>\n",
              "      <td>0.549316</td>\n",
              "      <td>-1.778492</td>\n",
              "      <td>-1.199401</td>\n",
              "      <td>-0.960869</td>\n",
              "    </tr>\n",
              "    <tr>\n",
              "      <th>2021-03-03</th>\n",
              "      <td>0.824688</td>\n",
              "      <td>-0.125578</td>\n",
              "      <td>0.239478</td>\n",
              "      <td>0.292834</td>\n",
              "    </tr>\n",
              "    <tr>\n",
              "      <th>2021-03-04</th>\n",
              "      <td>-0.378691</td>\n",
              "      <td>0.055439</td>\n",
              "      <td>-0.448168</td>\n",
              "      <td>1.080126</td>\n",
              "    </tr>\n",
              "    <tr>\n",
              "      <th>2021-03-05</th>\n",
              "      <td>-0.238644</td>\n",
              "      <td>0.224865</td>\n",
              "      <td>0.211980</td>\n",
              "      <td>0.323348</td>\n",
              "    </tr>\n",
              "    <tr>\n",
              "      <th>2021-03-06</th>\n",
              "      <td>0.531980</td>\n",
              "      <td>0.706118</td>\n",
              "      <td>-0.411751</td>\n",
              "      <td>-1.019778</td>\n",
              "    </tr>\n",
              "  </tbody>\n",
              "</table>\n",
              "</div>"
            ],
            "text/plain": [
              "                   A         B         C         D\n",
              "2021-02-25 -0.223142  0.172563  1.328213 -0.396174\n",
              "2021-02-26 -0.258195 -0.898269  1.534004  2.230910\n",
              "2021-02-27 -0.144576  0.857741  0.631783  2.730759\n",
              "2021-02-28 -0.563964  0.682976  0.134919 -0.036175\n",
              "2021-03-01 -0.516415 -0.140086 -0.331659  0.845632\n",
              "2021-03-02  0.549316 -1.778492 -1.199401 -0.960869\n",
              "2021-03-03  0.824688 -0.125578  0.239478  0.292834\n",
              "2021-03-04 -0.378691  0.055439 -0.448168  1.080126\n",
              "2021-03-05 -0.238644  0.224865  0.211980  0.323348\n",
              "2021-03-06  0.531980  0.706118 -0.411751 -1.019778"
            ]
          },
          "metadata": {
            "tags": []
          },
          "execution_count": 116
        }
      ]
    },
    {
      "cell_type": "code",
      "metadata": {
        "colab": {
          "base_uri": "https://localhost:8080/",
          "height": 284
        },
        "id": "ywVIePJ5v7UJ",
        "outputId": "b529840f-2678-4db1-e059-b8d2705060e4"
      },
      "source": [
        "df1.describe()"
      ],
      "execution_count": null,
      "outputs": [
        {
          "output_type": "execute_result",
          "data": {
            "text/html": [
              "<div>\n",
              "<style scoped>\n",
              "    .dataframe tbody tr th:only-of-type {\n",
              "        vertical-align: middle;\n",
              "    }\n",
              "\n",
              "    .dataframe tbody tr th {\n",
              "        vertical-align: top;\n",
              "    }\n",
              "\n",
              "    .dataframe thead th {\n",
              "        text-align: right;\n",
              "    }\n",
              "</style>\n",
              "<table border=\"1\" class=\"dataframe\">\n",
              "  <thead>\n",
              "    <tr style=\"text-align: right;\">\n",
              "      <th></th>\n",
              "      <th>A</th>\n",
              "      <th>B</th>\n",
              "      <th>C</th>\n",
              "      <th>D</th>\n",
              "    </tr>\n",
              "  </thead>\n",
              "  <tbody>\n",
              "    <tr>\n",
              "      <th>count</th>\n",
              "      <td>10.000000</td>\n",
              "      <td>10.000000</td>\n",
              "      <td>10.000000</td>\n",
              "      <td>10.000000</td>\n",
              "    </tr>\n",
              "    <tr>\n",
              "      <th>mean</th>\n",
              "      <td>-0.041764</td>\n",
              "      <td>-0.024272</td>\n",
              "      <td>0.168940</td>\n",
              "      <td>0.509061</td>\n",
              "    </tr>\n",
              "    <tr>\n",
              "      <th>std</th>\n",
              "      <td>0.491017</td>\n",
              "      <td>0.801639</td>\n",
              "      <td>0.834699</td>\n",
              "      <td>1.248827</td>\n",
              "    </tr>\n",
              "    <tr>\n",
              "      <th>min</th>\n",
              "      <td>-0.563964</td>\n",
              "      <td>-1.778492</td>\n",
              "      <td>-1.199401</td>\n",
              "      <td>-1.019778</td>\n",
              "    </tr>\n",
              "    <tr>\n",
              "      <th>25%</th>\n",
              "      <td>-0.348567</td>\n",
              "      <td>-0.136459</td>\n",
              "      <td>-0.391728</td>\n",
              "      <td>-0.306174</td>\n",
              "    </tr>\n",
              "    <tr>\n",
              "      <th>50%</th>\n",
              "      <td>-0.230893</td>\n",
              "      <td>0.114001</td>\n",
              "      <td>0.173450</td>\n",
              "      <td>0.308091</td>\n",
              "    </tr>\n",
              "    <tr>\n",
              "      <th>75%</th>\n",
              "      <td>0.362841</td>\n",
              "      <td>0.568448</td>\n",
              "      <td>0.533707</td>\n",
              "      <td>1.021502</td>\n",
              "    </tr>\n",
              "    <tr>\n",
              "      <th>max</th>\n",
              "      <td>0.824688</td>\n",
              "      <td>0.857741</td>\n",
              "      <td>1.534004</td>\n",
              "      <td>2.730759</td>\n",
              "    </tr>\n",
              "  </tbody>\n",
              "</table>\n",
              "</div>"
            ],
            "text/plain": [
              "               A          B          C          D\n",
              "count  10.000000  10.000000  10.000000  10.000000\n",
              "mean   -0.041764  -0.024272   0.168940   0.509061\n",
              "std     0.491017   0.801639   0.834699   1.248827\n",
              "min    -0.563964  -1.778492  -1.199401  -1.019778\n",
              "25%    -0.348567  -0.136459  -0.391728  -0.306174\n",
              "50%    -0.230893   0.114001   0.173450   0.308091\n",
              "75%     0.362841   0.568448   0.533707   1.021502\n",
              "max     0.824688   0.857741   1.534004   2.730759"
            ]
          },
          "metadata": {
            "tags": []
          },
          "execution_count": 118
        }
      ]
    },
    {
      "cell_type": "code",
      "metadata": {
        "colab": {
          "base_uri": "https://localhost:8080/",
          "height": 343
        },
        "id": "XXHLsu8Yv_2L",
        "outputId": "e36e8101-6c50-443c-e01e-90c0b0c1ce72"
      },
      "source": [
        "df1.sort_index(axis=1, ascending=False)"
      ],
      "execution_count": null,
      "outputs": [
        {
          "output_type": "execute_result",
          "data": {
            "text/html": [
              "<div>\n",
              "<style scoped>\n",
              "    .dataframe tbody tr th:only-of-type {\n",
              "        vertical-align: middle;\n",
              "    }\n",
              "\n",
              "    .dataframe tbody tr th {\n",
              "        vertical-align: top;\n",
              "    }\n",
              "\n",
              "    .dataframe thead th {\n",
              "        text-align: right;\n",
              "    }\n",
              "</style>\n",
              "<table border=\"1\" class=\"dataframe\">\n",
              "  <thead>\n",
              "    <tr style=\"text-align: right;\">\n",
              "      <th></th>\n",
              "      <th>D</th>\n",
              "      <th>C</th>\n",
              "      <th>B</th>\n",
              "      <th>A</th>\n",
              "    </tr>\n",
              "  </thead>\n",
              "  <tbody>\n",
              "    <tr>\n",
              "      <th>2021-02-25</th>\n",
              "      <td>-0.396174</td>\n",
              "      <td>1.328213</td>\n",
              "      <td>0.172563</td>\n",
              "      <td>-0.223142</td>\n",
              "    </tr>\n",
              "    <tr>\n",
              "      <th>2021-02-26</th>\n",
              "      <td>2.230910</td>\n",
              "      <td>1.534004</td>\n",
              "      <td>-0.898269</td>\n",
              "      <td>-0.258195</td>\n",
              "    </tr>\n",
              "    <tr>\n",
              "      <th>2021-02-27</th>\n",
              "      <td>2.730759</td>\n",
              "      <td>0.631783</td>\n",
              "      <td>0.857741</td>\n",
              "      <td>-0.144576</td>\n",
              "    </tr>\n",
              "    <tr>\n",
              "      <th>2021-02-28</th>\n",
              "      <td>-0.036175</td>\n",
              "      <td>0.134919</td>\n",
              "      <td>0.682976</td>\n",
              "      <td>-0.563964</td>\n",
              "    </tr>\n",
              "    <tr>\n",
              "      <th>2021-03-01</th>\n",
              "      <td>0.845632</td>\n",
              "      <td>-0.331659</td>\n",
              "      <td>-0.140086</td>\n",
              "      <td>-0.516415</td>\n",
              "    </tr>\n",
              "    <tr>\n",
              "      <th>2021-03-02</th>\n",
              "      <td>-0.960869</td>\n",
              "      <td>-1.199401</td>\n",
              "      <td>-1.778492</td>\n",
              "      <td>0.549316</td>\n",
              "    </tr>\n",
              "    <tr>\n",
              "      <th>2021-03-03</th>\n",
              "      <td>0.292834</td>\n",
              "      <td>0.239478</td>\n",
              "      <td>-0.125578</td>\n",
              "      <td>0.824688</td>\n",
              "    </tr>\n",
              "    <tr>\n",
              "      <th>2021-03-04</th>\n",
              "      <td>1.080126</td>\n",
              "      <td>-0.448168</td>\n",
              "      <td>0.055439</td>\n",
              "      <td>-0.378691</td>\n",
              "    </tr>\n",
              "    <tr>\n",
              "      <th>2021-03-05</th>\n",
              "      <td>0.323348</td>\n",
              "      <td>0.211980</td>\n",
              "      <td>0.224865</td>\n",
              "      <td>-0.238644</td>\n",
              "    </tr>\n",
              "    <tr>\n",
              "      <th>2021-03-06</th>\n",
              "      <td>-1.019778</td>\n",
              "      <td>-0.411751</td>\n",
              "      <td>0.706118</td>\n",
              "      <td>0.531980</td>\n",
              "    </tr>\n",
              "  </tbody>\n",
              "</table>\n",
              "</div>"
            ],
            "text/plain": [
              "                   D         C         B         A\n",
              "2021-02-25 -0.396174  1.328213  0.172563 -0.223142\n",
              "2021-02-26  2.230910  1.534004 -0.898269 -0.258195\n",
              "2021-02-27  2.730759  0.631783  0.857741 -0.144576\n",
              "2021-02-28 -0.036175  0.134919  0.682976 -0.563964\n",
              "2021-03-01  0.845632 -0.331659 -0.140086 -0.516415\n",
              "2021-03-02 -0.960869 -1.199401 -1.778492  0.549316\n",
              "2021-03-03  0.292834  0.239478 -0.125578  0.824688\n",
              "2021-03-04  1.080126 -0.448168  0.055439 -0.378691\n",
              "2021-03-05  0.323348  0.211980  0.224865 -0.238644\n",
              "2021-03-06 -1.019778 -0.411751  0.706118  0.531980"
            ]
          },
          "metadata": {
            "tags": []
          },
          "execution_count": 121
        }
      ]
    },
    {
      "cell_type": "code",
      "metadata": {
        "colab": {
          "base_uri": "https://localhost:8080/",
          "height": 343
        },
        "id": "nsd2utQuwjsR",
        "outputId": "5fac2375-cae0-43ad-db62-aa6dc8b916fa"
      },
      "source": [
        "df1.sort_values(by='A', ascending=False)"
      ],
      "execution_count": null,
      "outputs": [
        {
          "output_type": "execute_result",
          "data": {
            "text/html": [
              "<div>\n",
              "<style scoped>\n",
              "    .dataframe tbody tr th:only-of-type {\n",
              "        vertical-align: middle;\n",
              "    }\n",
              "\n",
              "    .dataframe tbody tr th {\n",
              "        vertical-align: top;\n",
              "    }\n",
              "\n",
              "    .dataframe thead th {\n",
              "        text-align: right;\n",
              "    }\n",
              "</style>\n",
              "<table border=\"1\" class=\"dataframe\">\n",
              "  <thead>\n",
              "    <tr style=\"text-align: right;\">\n",
              "      <th></th>\n",
              "      <th>A</th>\n",
              "      <th>B</th>\n",
              "      <th>C</th>\n",
              "      <th>D</th>\n",
              "    </tr>\n",
              "  </thead>\n",
              "  <tbody>\n",
              "    <tr>\n",
              "      <th>2021-03-03</th>\n",
              "      <td>0.824688</td>\n",
              "      <td>-0.125578</td>\n",
              "      <td>0.239478</td>\n",
              "      <td>0.292834</td>\n",
              "    </tr>\n",
              "    <tr>\n",
              "      <th>2021-03-02</th>\n",
              "      <td>0.549316</td>\n",
              "      <td>-1.778492</td>\n",
              "      <td>-1.199401</td>\n",
              "      <td>-0.960869</td>\n",
              "    </tr>\n",
              "    <tr>\n",
              "      <th>2021-03-06</th>\n",
              "      <td>0.531980</td>\n",
              "      <td>0.706118</td>\n",
              "      <td>-0.411751</td>\n",
              "      <td>-1.019778</td>\n",
              "    </tr>\n",
              "    <tr>\n",
              "      <th>2021-02-27</th>\n",
              "      <td>-0.144576</td>\n",
              "      <td>0.857741</td>\n",
              "      <td>0.631783</td>\n",
              "      <td>2.730759</td>\n",
              "    </tr>\n",
              "    <tr>\n",
              "      <th>2021-02-25</th>\n",
              "      <td>-0.223142</td>\n",
              "      <td>0.172563</td>\n",
              "      <td>1.328213</td>\n",
              "      <td>-0.396174</td>\n",
              "    </tr>\n",
              "    <tr>\n",
              "      <th>2021-03-05</th>\n",
              "      <td>-0.238644</td>\n",
              "      <td>0.224865</td>\n",
              "      <td>0.211980</td>\n",
              "      <td>0.323348</td>\n",
              "    </tr>\n",
              "    <tr>\n",
              "      <th>2021-02-26</th>\n",
              "      <td>-0.258195</td>\n",
              "      <td>-0.898269</td>\n",
              "      <td>1.534004</td>\n",
              "      <td>2.230910</td>\n",
              "    </tr>\n",
              "    <tr>\n",
              "      <th>2021-03-04</th>\n",
              "      <td>-0.378691</td>\n",
              "      <td>0.055439</td>\n",
              "      <td>-0.448168</td>\n",
              "      <td>1.080126</td>\n",
              "    </tr>\n",
              "    <tr>\n",
              "      <th>2021-03-01</th>\n",
              "      <td>-0.516415</td>\n",
              "      <td>-0.140086</td>\n",
              "      <td>-0.331659</td>\n",
              "      <td>0.845632</td>\n",
              "    </tr>\n",
              "    <tr>\n",
              "      <th>2021-02-28</th>\n",
              "      <td>-0.563964</td>\n",
              "      <td>0.682976</td>\n",
              "      <td>0.134919</td>\n",
              "      <td>-0.036175</td>\n",
              "    </tr>\n",
              "  </tbody>\n",
              "</table>\n",
              "</div>"
            ],
            "text/plain": [
              "                   A         B         C         D\n",
              "2021-03-03  0.824688 -0.125578  0.239478  0.292834\n",
              "2021-03-02  0.549316 -1.778492 -1.199401 -0.960869\n",
              "2021-03-06  0.531980  0.706118 -0.411751 -1.019778\n",
              "2021-02-27 -0.144576  0.857741  0.631783  2.730759\n",
              "2021-02-25 -0.223142  0.172563  1.328213 -0.396174\n",
              "2021-03-05 -0.238644  0.224865  0.211980  0.323348\n",
              "2021-02-26 -0.258195 -0.898269  1.534004  2.230910\n",
              "2021-03-04 -0.378691  0.055439 -0.448168  1.080126\n",
              "2021-03-01 -0.516415 -0.140086 -0.331659  0.845632\n",
              "2021-02-28 -0.563964  0.682976  0.134919 -0.036175"
            ]
          },
          "metadata": {
            "tags": []
          },
          "execution_count": 122
        }
      ]
    },
    {
      "cell_type": "code",
      "metadata": {
        "colab": {
          "base_uri": "https://localhost:8080/",
          "height": 136
        },
        "id": "hDq-S9flwvG6",
        "outputId": "c705260d-dc32-4a59-98c2-9f48777fcc01"
      },
      "source": [
        "# Slicing starting from 0th row to 3rd row\n",
        "df1[0:3]"
      ],
      "execution_count": null,
      "outputs": [
        {
          "output_type": "execute_result",
          "data": {
            "text/html": [
              "<div>\n",
              "<style scoped>\n",
              "    .dataframe tbody tr th:only-of-type {\n",
              "        vertical-align: middle;\n",
              "    }\n",
              "\n",
              "    .dataframe tbody tr th {\n",
              "        vertical-align: top;\n",
              "    }\n",
              "\n",
              "    .dataframe thead th {\n",
              "        text-align: right;\n",
              "    }\n",
              "</style>\n",
              "<table border=\"1\" class=\"dataframe\">\n",
              "  <thead>\n",
              "    <tr style=\"text-align: right;\">\n",
              "      <th></th>\n",
              "      <th>A</th>\n",
              "      <th>B</th>\n",
              "      <th>C</th>\n",
              "      <th>D</th>\n",
              "    </tr>\n",
              "  </thead>\n",
              "  <tbody>\n",
              "    <tr>\n",
              "      <th>2021-02-25</th>\n",
              "      <td>-0.223142</td>\n",
              "      <td>0.172563</td>\n",
              "      <td>1.328213</td>\n",
              "      <td>-0.396174</td>\n",
              "    </tr>\n",
              "    <tr>\n",
              "      <th>2021-02-26</th>\n",
              "      <td>-0.258195</td>\n",
              "      <td>-0.898269</td>\n",
              "      <td>1.534004</td>\n",
              "      <td>2.230910</td>\n",
              "    </tr>\n",
              "    <tr>\n",
              "      <th>2021-02-27</th>\n",
              "      <td>-0.144576</td>\n",
              "      <td>0.857741</td>\n",
              "      <td>0.631783</td>\n",
              "      <td>2.730759</td>\n",
              "    </tr>\n",
              "  </tbody>\n",
              "</table>\n",
              "</div>"
            ],
            "text/plain": [
              "                   A         B         C         D\n",
              "2021-02-25 -0.223142  0.172563  1.328213 -0.396174\n",
              "2021-02-26 -0.258195 -0.898269  1.534004  2.230910\n",
              "2021-02-27 -0.144576  0.857741  0.631783  2.730759"
            ]
          },
          "metadata": {
            "tags": []
          },
          "execution_count": 124
        }
      ]
    },
    {
      "cell_type": "code",
      "metadata": {
        "colab": {
          "base_uri": "https://localhost:8080/",
          "height": 136
        },
        "id": "2fZ0hj_FyNrJ",
        "outputId": "a4604325-eed9-4816-d4d7-33e3a2e0ca0c"
      },
      "source": [
        "# Slicing using iloc rows along with columns\n",
        "df1.iloc[0:3,2:4]"
      ],
      "execution_count": null,
      "outputs": [
        {
          "output_type": "execute_result",
          "data": {
            "text/html": [
              "<div>\n",
              "<style scoped>\n",
              "    .dataframe tbody tr th:only-of-type {\n",
              "        vertical-align: middle;\n",
              "    }\n",
              "\n",
              "    .dataframe tbody tr th {\n",
              "        vertical-align: top;\n",
              "    }\n",
              "\n",
              "    .dataframe thead th {\n",
              "        text-align: right;\n",
              "    }\n",
              "</style>\n",
              "<table border=\"1\" class=\"dataframe\">\n",
              "  <thead>\n",
              "    <tr style=\"text-align: right;\">\n",
              "      <th></th>\n",
              "      <th>C</th>\n",
              "      <th>D</th>\n",
              "    </tr>\n",
              "  </thead>\n",
              "  <tbody>\n",
              "    <tr>\n",
              "      <th>2021-02-25</th>\n",
              "      <td>1.328213</td>\n",
              "      <td>-0.396174</td>\n",
              "    </tr>\n",
              "    <tr>\n",
              "      <th>2021-02-26</th>\n",
              "      <td>1.534004</td>\n",
              "      <td>2.230910</td>\n",
              "    </tr>\n",
              "    <tr>\n",
              "      <th>2021-02-27</th>\n",
              "      <td>0.631783</td>\n",
              "      <td>2.730759</td>\n",
              "    </tr>\n",
              "  </tbody>\n",
              "</table>\n",
              "</div>"
            ],
            "text/plain": [
              "                   C         D\n",
              "2021-02-25  1.328213 -0.396174\n",
              "2021-02-26  1.534004  2.230910\n",
              "2021-02-27  0.631783  2.730759"
            ]
          },
          "metadata": {
            "tags": []
          },
          "execution_count": 233
        }
      ]
    },
    {
      "cell_type": "code",
      "metadata": {
        "colab": {
          "base_uri": "https://localhost:8080/",
          "height": 136
        },
        "id": "t9urL-j01Oy8",
        "outputId": "5e2451c7-7c9c-4bdf-975e-559401179d1a"
      },
      "source": [
        "# from 0th row to 2nd row of particular selected columns \n",
        "df.loc[0:2, ('A','B')] "
      ],
      "execution_count": null,
      "outputs": [
        {
          "output_type": "execute_result",
          "data": {
            "text/html": [
              "<div>\n",
              "<style scoped>\n",
              "    .dataframe tbody tr th:only-of-type {\n",
              "        vertical-align: middle;\n",
              "    }\n",
              "\n",
              "    .dataframe tbody tr th {\n",
              "        vertical-align: top;\n",
              "    }\n",
              "\n",
              "    .dataframe thead th {\n",
              "        text-align: right;\n",
              "    }\n",
              "</style>\n",
              "<table border=\"1\" class=\"dataframe\">\n",
              "  <thead>\n",
              "    <tr style=\"text-align: right;\">\n",
              "      <th></th>\n",
              "      <th>A</th>\n",
              "      <th>B</th>\n",
              "    </tr>\n",
              "  </thead>\n",
              "  <tbody>\n",
              "    <tr>\n",
              "      <th>0</th>\n",
              "      <td>1</td>\n",
              "      <td>2020-02-25</td>\n",
              "    </tr>\n",
              "    <tr>\n",
              "      <th>1</th>\n",
              "      <td>2</td>\n",
              "      <td>2020-02-26</td>\n",
              "    </tr>\n",
              "    <tr>\n",
              "      <th>2</th>\n",
              "      <td>3</td>\n",
              "      <td>2020-02-27</td>\n",
              "    </tr>\n",
              "  </tbody>\n",
              "</table>\n",
              "</div>"
            ],
            "text/plain": [
              "   A          B\n",
              "0  1 2020-02-25\n",
              "1  2 2020-02-26\n",
              "2  3 2020-02-27"
            ]
          },
          "metadata": {
            "tags": []
          },
          "execution_count": 234
        }
      ]
    },
    {
      "cell_type": "code",
      "metadata": {
        "colab": {
          "base_uri": "https://localhost:8080/",
          "height": 195
        },
        "id": "oyoft8Id7qcR",
        "outputId": "13926280-78ba-4c6b-d9f0-57cfb611ead6"
      },
      "source": [
        "df.drop('D', axis=1)"
      ],
      "execution_count": null,
      "outputs": [
        {
          "output_type": "execute_result",
          "data": {
            "text/html": [
              "<div>\n",
              "<style scoped>\n",
              "    .dataframe tbody tr th:only-of-type {\n",
              "        vertical-align: middle;\n",
              "    }\n",
              "\n",
              "    .dataframe tbody tr th {\n",
              "        vertical-align: top;\n",
              "    }\n",
              "\n",
              "    .dataframe thead th {\n",
              "        text-align: right;\n",
              "    }\n",
              "</style>\n",
              "<table border=\"1\" class=\"dataframe\">\n",
              "  <thead>\n",
              "    <tr style=\"text-align: right;\">\n",
              "      <th></th>\n",
              "      <th>A</th>\n",
              "      <th>B</th>\n",
              "      <th>C</th>\n",
              "      <th>E</th>\n",
              "      <th>F</th>\n",
              "    </tr>\n",
              "  </thead>\n",
              "  <tbody>\n",
              "    <tr>\n",
              "      <th>0</th>\n",
              "      <td>1</td>\n",
              "      <td>2020-02-25</td>\n",
              "      <td>1</td>\n",
              "      <td>Train</td>\n",
              "      <td>Workshop</td>\n",
              "    </tr>\n",
              "    <tr>\n",
              "      <th>1</th>\n",
              "      <td>2</td>\n",
              "      <td>2020-02-26</td>\n",
              "      <td>1</td>\n",
              "      <td>Train</td>\n",
              "      <td>Workshop</td>\n",
              "    </tr>\n",
              "    <tr>\n",
              "      <th>2</th>\n",
              "      <td>3</td>\n",
              "      <td>2020-02-27</td>\n",
              "      <td>1</td>\n",
              "      <td>Test</td>\n",
              "      <td>Workshop</td>\n",
              "    </tr>\n",
              "    <tr>\n",
              "      <th>3</th>\n",
              "      <td>4</td>\n",
              "      <td>2020-02-28</td>\n",
              "      <td>1</td>\n",
              "      <td>Train</td>\n",
              "      <td>Workshop</td>\n",
              "    </tr>\n",
              "    <tr>\n",
              "      <th>4</th>\n",
              "      <td>5</td>\n",
              "      <td>2020-02-29</td>\n",
              "      <td>1</td>\n",
              "      <td>Test</td>\n",
              "      <td>Workshop</td>\n",
              "    </tr>\n",
              "  </tbody>\n",
              "</table>\n",
              "</div>"
            ],
            "text/plain": [
              "   A          B  C      E         F\n",
              "0  1 2020-02-25  1  Train  Workshop\n",
              "1  2 2020-02-26  1  Train  Workshop\n",
              "2  3 2020-02-27  1   Test  Workshop\n",
              "3  4 2020-02-28  1  Train  Workshop\n",
              "4  5 2020-02-29  1   Test  Workshop"
            ]
          },
          "metadata": {
            "tags": []
          },
          "execution_count": 235
        }
      ]
    },
    {
      "cell_type": "code",
      "metadata": {
        "colab": {
          "base_uri": "https://localhost:8080/",
          "height": 195
        },
        "id": "jo_7ep54hCJF",
        "outputId": "7f5a8600-5914-44a1-e60e-9efb755648b2"
      },
      "source": [
        "df"
      ],
      "execution_count": null,
      "outputs": [
        {
          "output_type": "execute_result",
          "data": {
            "text/html": [
              "<div>\n",
              "<style scoped>\n",
              "    .dataframe tbody tr th:only-of-type {\n",
              "        vertical-align: middle;\n",
              "    }\n",
              "\n",
              "    .dataframe tbody tr th {\n",
              "        vertical-align: top;\n",
              "    }\n",
              "\n",
              "    .dataframe thead th {\n",
              "        text-align: right;\n",
              "    }\n",
              "</style>\n",
              "<table border=\"1\" class=\"dataframe\">\n",
              "  <thead>\n",
              "    <tr style=\"text-align: right;\">\n",
              "      <th></th>\n",
              "      <th>A</th>\n",
              "      <th>B</th>\n",
              "      <th>C</th>\n",
              "      <th>D</th>\n",
              "      <th>E</th>\n",
              "      <th>F</th>\n",
              "    </tr>\n",
              "  </thead>\n",
              "  <tbody>\n",
              "    <tr>\n",
              "      <th>0</th>\n",
              "      <td>1</td>\n",
              "      <td>2020-02-25</td>\n",
              "      <td>1</td>\n",
              "      <td>5</td>\n",
              "      <td>Train</td>\n",
              "      <td>Workshop</td>\n",
              "    </tr>\n",
              "    <tr>\n",
              "      <th>1</th>\n",
              "      <td>2</td>\n",
              "      <td>2020-02-26</td>\n",
              "      <td>1</td>\n",
              "      <td>5</td>\n",
              "      <td>Train</td>\n",
              "      <td>Workshop</td>\n",
              "    </tr>\n",
              "    <tr>\n",
              "      <th>2</th>\n",
              "      <td>3</td>\n",
              "      <td>2020-02-27</td>\n",
              "      <td>1</td>\n",
              "      <td>5</td>\n",
              "      <td>Test</td>\n",
              "      <td>Workshop</td>\n",
              "    </tr>\n",
              "    <tr>\n",
              "      <th>3</th>\n",
              "      <td>4</td>\n",
              "      <td>2020-02-28</td>\n",
              "      <td>1</td>\n",
              "      <td>5</td>\n",
              "      <td>Train</td>\n",
              "      <td>Workshop</td>\n",
              "    </tr>\n",
              "    <tr>\n",
              "      <th>4</th>\n",
              "      <td>5</td>\n",
              "      <td>2020-02-29</td>\n",
              "      <td>1</td>\n",
              "      <td>5</td>\n",
              "      <td>Test</td>\n",
              "      <td>Workshop</td>\n",
              "    </tr>\n",
              "  </tbody>\n",
              "</table>\n",
              "</div>"
            ],
            "text/plain": [
              "   A          B  C  D      E         F\n",
              "0  1 2020-02-25  1  5  Train  Workshop\n",
              "1  2 2020-02-26  1  5  Train  Workshop\n",
              "2  3 2020-02-27  1  5   Test  Workshop\n",
              "3  4 2020-02-28  1  5  Train  Workshop\n",
              "4  5 2020-02-29  1  5   Test  Workshop"
            ]
          },
          "metadata": {
            "tags": []
          },
          "execution_count": 237
        }
      ]
    },
    {
      "cell_type": "code",
      "metadata": {
        "colab": {
          "base_uri": "https://localhost:8080/",
          "height": 166
        },
        "id": "hfROXidp8WiH",
        "outputId": "dab38ff5-3535-4d30-932a-5643f3c394ed"
      },
      "source": [
        "df.drop(4,axis=0)"
      ],
      "execution_count": null,
      "outputs": [
        {
          "output_type": "execute_result",
          "data": {
            "text/html": [
              "<div>\n",
              "<style scoped>\n",
              "    .dataframe tbody tr th:only-of-type {\n",
              "        vertical-align: middle;\n",
              "    }\n",
              "\n",
              "    .dataframe tbody tr th {\n",
              "        vertical-align: top;\n",
              "    }\n",
              "\n",
              "    .dataframe thead th {\n",
              "        text-align: right;\n",
              "    }\n",
              "</style>\n",
              "<table border=\"1\" class=\"dataframe\">\n",
              "  <thead>\n",
              "    <tr style=\"text-align: right;\">\n",
              "      <th></th>\n",
              "      <th>A</th>\n",
              "      <th>B</th>\n",
              "      <th>C</th>\n",
              "      <th>D</th>\n",
              "      <th>E</th>\n",
              "      <th>F</th>\n",
              "    </tr>\n",
              "  </thead>\n",
              "  <tbody>\n",
              "    <tr>\n",
              "      <th>0</th>\n",
              "      <td>1</td>\n",
              "      <td>2020-02-25</td>\n",
              "      <td>1</td>\n",
              "      <td>5</td>\n",
              "      <td>Train</td>\n",
              "      <td>Workshop</td>\n",
              "    </tr>\n",
              "    <tr>\n",
              "      <th>1</th>\n",
              "      <td>2</td>\n",
              "      <td>2020-02-26</td>\n",
              "      <td>1</td>\n",
              "      <td>5</td>\n",
              "      <td>Train</td>\n",
              "      <td>Workshop</td>\n",
              "    </tr>\n",
              "    <tr>\n",
              "      <th>2</th>\n",
              "      <td>3</td>\n",
              "      <td>2020-02-27</td>\n",
              "      <td>1</td>\n",
              "      <td>5</td>\n",
              "      <td>Test</td>\n",
              "      <td>Workshop</td>\n",
              "    </tr>\n",
              "    <tr>\n",
              "      <th>3</th>\n",
              "      <td>4</td>\n",
              "      <td>2020-02-28</td>\n",
              "      <td>1</td>\n",
              "      <td>5</td>\n",
              "      <td>Train</td>\n",
              "      <td>Workshop</td>\n",
              "    </tr>\n",
              "  </tbody>\n",
              "</table>\n",
              "</div>"
            ],
            "text/plain": [
              "   A          B  C  D      E         F\n",
              "0  1 2020-02-25  1  5  Train  Workshop\n",
              "1  2 2020-02-26  1  5  Train  Workshop\n",
              "2  3 2020-02-27  1  5   Test  Workshop\n",
              "3  4 2020-02-28  1  5  Train  Workshop"
            ]
          },
          "metadata": {
            "tags": []
          },
          "execution_count": 255
        }
      ]
    },
    {
      "cell_type": "markdown",
      "metadata": {
        "id": "r_pzLE80kD-0"
      },
      "source": [
        "* Function Application and Mapping"
      ]
    },
    {
      "cell_type": "code",
      "metadata": {
        "colab": {
          "base_uri": "https://localhost:8080/",
          "height": 195
        },
        "id": "gqAndobMnEyB",
        "outputId": "6d212169-86f0-4b9c-f706-01b3cd364e37"
      },
      "source": [
        "def half(s):\n",
        "  return s*0.5\n",
        "\n",
        "df[['D','A']].apply(half)"
      ],
      "execution_count": null,
      "outputs": [
        {
          "output_type": "execute_result",
          "data": {
            "text/html": [
              "<div>\n",
              "<style scoped>\n",
              "    .dataframe tbody tr th:only-of-type {\n",
              "        vertical-align: middle;\n",
              "    }\n",
              "\n",
              "    .dataframe tbody tr th {\n",
              "        vertical-align: top;\n",
              "    }\n",
              "\n",
              "    .dataframe thead th {\n",
              "        text-align: right;\n",
              "    }\n",
              "</style>\n",
              "<table border=\"1\" class=\"dataframe\">\n",
              "  <thead>\n",
              "    <tr style=\"text-align: right;\">\n",
              "      <th></th>\n",
              "      <th>D</th>\n",
              "      <th>A</th>\n",
              "    </tr>\n",
              "  </thead>\n",
              "  <tbody>\n",
              "    <tr>\n",
              "      <th>0</th>\n",
              "      <td>2.5</td>\n",
              "      <td>0.5</td>\n",
              "    </tr>\n",
              "    <tr>\n",
              "      <th>1</th>\n",
              "      <td>2.5</td>\n",
              "      <td>1.0</td>\n",
              "    </tr>\n",
              "    <tr>\n",
              "      <th>2</th>\n",
              "      <td>2.5</td>\n",
              "      <td>1.5</td>\n",
              "    </tr>\n",
              "    <tr>\n",
              "      <th>3</th>\n",
              "      <td>2.5</td>\n",
              "      <td>2.0</td>\n",
              "    </tr>\n",
              "    <tr>\n",
              "      <th>4</th>\n",
              "      <td>2.5</td>\n",
              "      <td>2.5</td>\n",
              "    </tr>\n",
              "  </tbody>\n",
              "</table>\n",
              "</div>"
            ],
            "text/plain": [
              "     D    A\n",
              "0  2.5  0.5\n",
              "1  2.5  1.0\n",
              "2  2.5  1.5\n",
              "3  2.5  2.0\n",
              "4  2.5  2.5"
            ]
          },
          "metadata": {
            "tags": []
          },
          "execution_count": 268
        }
      ]
    },
    {
      "cell_type": "code",
      "metadata": {
        "colab": {
          "base_uri": "https://localhost:8080/",
          "height": 195
        },
        "id": "OT65VSDEaZRY",
        "outputId": "888e5826-9995-4958-a96a-a8f0502addfb"
      },
      "source": [
        "df[['D','A']].apply(lambda x:x*0.5 , axis = 1)"
      ],
      "execution_count": null,
      "outputs": [
        {
          "output_type": "execute_result",
          "data": {
            "text/html": [
              "<div>\n",
              "<style scoped>\n",
              "    .dataframe tbody tr th:only-of-type {\n",
              "        vertical-align: middle;\n",
              "    }\n",
              "\n",
              "    .dataframe tbody tr th {\n",
              "        vertical-align: top;\n",
              "    }\n",
              "\n",
              "    .dataframe thead th {\n",
              "        text-align: right;\n",
              "    }\n",
              "</style>\n",
              "<table border=\"1\" class=\"dataframe\">\n",
              "  <thead>\n",
              "    <tr style=\"text-align: right;\">\n",
              "      <th></th>\n",
              "      <th>D</th>\n",
              "      <th>A</th>\n",
              "    </tr>\n",
              "  </thead>\n",
              "  <tbody>\n",
              "    <tr>\n",
              "      <th>0</th>\n",
              "      <td>2.5</td>\n",
              "      <td>0.5</td>\n",
              "    </tr>\n",
              "    <tr>\n",
              "      <th>1</th>\n",
              "      <td>2.5</td>\n",
              "      <td>1.0</td>\n",
              "    </tr>\n",
              "    <tr>\n",
              "      <th>2</th>\n",
              "      <td>2.5</td>\n",
              "      <td>1.5</td>\n",
              "    </tr>\n",
              "    <tr>\n",
              "      <th>3</th>\n",
              "      <td>2.5</td>\n",
              "      <td>2.0</td>\n",
              "    </tr>\n",
              "    <tr>\n",
              "      <th>4</th>\n",
              "      <td>2.5</td>\n",
              "      <td>2.5</td>\n",
              "    </tr>\n",
              "  </tbody>\n",
              "</table>\n",
              "</div>"
            ],
            "text/plain": [
              "     D    A\n",
              "0  2.5  0.5\n",
              "1  2.5  1.0\n",
              "2  2.5  1.5\n",
              "3  2.5  2.0\n",
              "4  2.5  2.5"
            ]
          },
          "metadata": {
            "tags": []
          },
          "execution_count": 267
        }
      ]
    },
    {
      "cell_type": "code",
      "metadata": {
        "colab": {
          "base_uri": "https://localhost:8080/",
          "height": 195
        },
        "id": "Fli2ACdEkGdy",
        "outputId": "d04df801-cfbe-4efb-ad5c-f7458e591cd1"
      },
      "source": [
        "df[['E']].applymap(str.upper)"
      ],
      "execution_count": null,
      "outputs": [
        {
          "output_type": "execute_result",
          "data": {
            "text/html": [
              "<div>\n",
              "<style scoped>\n",
              "    .dataframe tbody tr th:only-of-type {\n",
              "        vertical-align: middle;\n",
              "    }\n",
              "\n",
              "    .dataframe tbody tr th {\n",
              "        vertical-align: top;\n",
              "    }\n",
              "\n",
              "    .dataframe thead th {\n",
              "        text-align: right;\n",
              "    }\n",
              "</style>\n",
              "<table border=\"1\" class=\"dataframe\">\n",
              "  <thead>\n",
              "    <tr style=\"text-align: right;\">\n",
              "      <th></th>\n",
              "      <th>E</th>\n",
              "    </tr>\n",
              "  </thead>\n",
              "  <tbody>\n",
              "    <tr>\n",
              "      <th>0</th>\n",
              "      <td>TRAIN</td>\n",
              "    </tr>\n",
              "    <tr>\n",
              "      <th>1</th>\n",
              "      <td>TRAIN</td>\n",
              "    </tr>\n",
              "    <tr>\n",
              "      <th>2</th>\n",
              "      <td>TEST</td>\n",
              "    </tr>\n",
              "    <tr>\n",
              "      <th>3</th>\n",
              "      <td>TRAIN</td>\n",
              "    </tr>\n",
              "    <tr>\n",
              "      <th>4</th>\n",
              "      <td>TEST</td>\n",
              "    </tr>\n",
              "  </tbody>\n",
              "</table>\n",
              "</div>"
            ],
            "text/plain": [
              "       E\n",
              "0  TRAIN\n",
              "1  TRAIN\n",
              "2   TEST\n",
              "3  TRAIN\n",
              "4   TEST"
            ]
          },
          "metadata": {
            "tags": []
          },
          "execution_count": 262
        }
      ]
    },
    {
      "cell_type": "code",
      "metadata": {
        "colab": {
          "base_uri": "https://localhost:8080/"
        },
        "id": "vF8M2gunmnmy",
        "outputId": "69301e83-f263-4415-a9da-0fa8cf9073ec"
      },
      "source": [
        "df['F'].map(str.upper)"
      ],
      "execution_count": null,
      "outputs": [
        {
          "output_type": "execute_result",
          "data": {
            "text/plain": [
              "0    WORKSHOP\n",
              "1    WORKSHOP\n",
              "2    WORKSHOP\n",
              "3    WORKSHOP\n",
              "4    WORKSHOP\n",
              "Name: F, dtype: object"
            ]
          },
          "metadata": {
            "tags": []
          },
          "execution_count": 266
        }
      ]
    },
    {
      "cell_type": "code",
      "metadata": {
        "colab": {
          "base_uri": "https://localhost:8080/"
        },
        "id": "Bn87mFN19Kre",
        "outputId": "ab31e81f-b64c-44b4-e463-1b0ac483ffaf"
      },
      "source": [
        "#df.value_counts('E') OR\n",
        "df['E'].value_counts()"
      ],
      "execution_count": null,
      "outputs": [
        {
          "output_type": "execute_result",
          "data": {
            "text/plain": [
              "Train    3\n",
              "Test     2\n",
              "Name: E, dtype: int64"
            ]
          },
          "metadata": {
            "tags": []
          },
          "execution_count": 220
        }
      ]
    },
    {
      "cell_type": "markdown",
      "metadata": {
        "id": "OUYM9RcXLeQ5"
      },
      "source": [
        "* Index and Reindexing"
      ]
    },
    {
      "cell_type": "code",
      "metadata": {
        "colab": {
          "base_uri": "https://localhost:8080/"
        },
        "id": "hNKCUEhS-J7O",
        "outputId": "1b1b09c0-b629-4ef4-e50e-8b53842428a3"
      },
      "source": [
        "#Index \n",
        "pd.Index([1,2,3,4,5,6,7,8,9,0]).values"
      ],
      "execution_count": null,
      "outputs": [
        {
          "output_type": "execute_result",
          "data": {
            "text/plain": [
              "array([1, 2, 3, 4, 5, 6, 7, 8, 9, 0])"
            ]
          },
          "metadata": {
            "tags": []
          },
          "execution_count": 172
        }
      ]
    },
    {
      "cell_type": "code",
      "metadata": {
        "colab": {
          "base_uri": "https://localhost:8080/",
          "height": 373
        },
        "id": "E5TYGDiVIyKE",
        "outputId": "68e2a4b7-c8c8-4907-a688-302861d87d2c"
      },
      "source": [
        "df2 = pd.DataFrame(np.random.randn(10,4), index= pd.Index(['A','B','C','D','E','F','G','H','I','J'], name='Alphabets'), columns=pd.Index(['I','II','III','IV'], name='Roman values'))\n",
        "df2"
      ],
      "execution_count": null,
      "outputs": [
        {
          "output_type": "execute_result",
          "data": {
            "text/html": [
              "<div>\n",
              "<style scoped>\n",
              "    .dataframe tbody tr th:only-of-type {\n",
              "        vertical-align: middle;\n",
              "    }\n",
              "\n",
              "    .dataframe tbody tr th {\n",
              "        vertical-align: top;\n",
              "    }\n",
              "\n",
              "    .dataframe thead th {\n",
              "        text-align: right;\n",
              "    }\n",
              "</style>\n",
              "<table border=\"1\" class=\"dataframe\">\n",
              "  <thead>\n",
              "    <tr style=\"text-align: right;\">\n",
              "      <th>Roman values</th>\n",
              "      <th>I</th>\n",
              "      <th>II</th>\n",
              "      <th>III</th>\n",
              "      <th>IV</th>\n",
              "    </tr>\n",
              "    <tr>\n",
              "      <th>Alphabets</th>\n",
              "      <th></th>\n",
              "      <th></th>\n",
              "      <th></th>\n",
              "      <th></th>\n",
              "    </tr>\n",
              "  </thead>\n",
              "  <tbody>\n",
              "    <tr>\n",
              "      <th>A</th>\n",
              "      <td>-1.042351</td>\n",
              "      <td>0.396239</td>\n",
              "      <td>-0.363974</td>\n",
              "      <td>-0.185126</td>\n",
              "    </tr>\n",
              "    <tr>\n",
              "      <th>B</th>\n",
              "      <td>0.859724</td>\n",
              "      <td>-0.392639</td>\n",
              "      <td>0.853598</td>\n",
              "      <td>0.786161</td>\n",
              "    </tr>\n",
              "    <tr>\n",
              "      <th>C</th>\n",
              "      <td>-0.674700</td>\n",
              "      <td>0.182811</td>\n",
              "      <td>-1.186566</td>\n",
              "      <td>0.559129</td>\n",
              "    </tr>\n",
              "    <tr>\n",
              "      <th>D</th>\n",
              "      <td>0.129249</td>\n",
              "      <td>-0.424662</td>\n",
              "      <td>0.015757</td>\n",
              "      <td>-0.271605</td>\n",
              "    </tr>\n",
              "    <tr>\n",
              "      <th>E</th>\n",
              "      <td>-0.578163</td>\n",
              "      <td>1.283488</td>\n",
              "      <td>-1.175926</td>\n",
              "      <td>0.836512</td>\n",
              "    </tr>\n",
              "    <tr>\n",
              "      <th>F</th>\n",
              "      <td>0.969954</td>\n",
              "      <td>-0.939907</td>\n",
              "      <td>0.975316</td>\n",
              "      <td>0.789802</td>\n",
              "    </tr>\n",
              "    <tr>\n",
              "      <th>G</th>\n",
              "      <td>1.005044</td>\n",
              "      <td>-0.298769</td>\n",
              "      <td>-0.881498</td>\n",
              "      <td>-1.400847</td>\n",
              "    </tr>\n",
              "    <tr>\n",
              "      <th>H</th>\n",
              "      <td>-1.067536</td>\n",
              "      <td>-0.278950</td>\n",
              "      <td>-0.533865</td>\n",
              "      <td>1.432076</td>\n",
              "    </tr>\n",
              "    <tr>\n",
              "      <th>I</th>\n",
              "      <td>0.375985</td>\n",
              "      <td>-0.699654</td>\n",
              "      <td>1.432534</td>\n",
              "      <td>0.403151</td>\n",
              "    </tr>\n",
              "    <tr>\n",
              "      <th>J</th>\n",
              "      <td>-0.504922</td>\n",
              "      <td>-0.569931</td>\n",
              "      <td>-0.404107</td>\n",
              "      <td>0.640058</td>\n",
              "    </tr>\n",
              "  </tbody>\n",
              "</table>\n",
              "</div>"
            ],
            "text/plain": [
              "Roman values         I        II       III        IV\n",
              "Alphabets                                           \n",
              "A            -1.042351  0.396239 -0.363974 -0.185126\n",
              "B             0.859724 -0.392639  0.853598  0.786161\n",
              "C            -0.674700  0.182811 -1.186566  0.559129\n",
              "D             0.129249 -0.424662  0.015757 -0.271605\n",
              "E            -0.578163  1.283488 -1.175926  0.836512\n",
              "F             0.969954 -0.939907  0.975316  0.789802\n",
              "G             1.005044 -0.298769 -0.881498 -1.400847\n",
              "H            -1.067536 -0.278950 -0.533865  1.432076\n",
              "I             0.375985 -0.699654  1.432534  0.403151\n",
              "J            -0.504922 -0.569931 -0.404107  0.640058"
            ]
          },
          "metadata": {
            "tags": []
          },
          "execution_count": 214
        }
      ]
    },
    {
      "cell_type": "code",
      "metadata": {
        "colab": {
          "base_uri": "https://localhost:8080/",
          "height": 373
        },
        "id": "aYyt8D4pJn1U",
        "outputId": "fa00e187-2328-4ad8-8859-3905967310eb"
      },
      "source": [
        "df2.reindex(['B','A','C','E','D','G','F','H','J','I'])"
      ],
      "execution_count": null,
      "outputs": [
        {
          "output_type": "execute_result",
          "data": {
            "text/html": [
              "<div>\n",
              "<style scoped>\n",
              "    .dataframe tbody tr th:only-of-type {\n",
              "        vertical-align: middle;\n",
              "    }\n",
              "\n",
              "    .dataframe tbody tr th {\n",
              "        vertical-align: top;\n",
              "    }\n",
              "\n",
              "    .dataframe thead th {\n",
              "        text-align: right;\n",
              "    }\n",
              "</style>\n",
              "<table border=\"1\" class=\"dataframe\">\n",
              "  <thead>\n",
              "    <tr style=\"text-align: right;\">\n",
              "      <th>Roman values</th>\n",
              "      <th>I</th>\n",
              "      <th>II</th>\n",
              "      <th>III</th>\n",
              "      <th>IV</th>\n",
              "    </tr>\n",
              "    <tr>\n",
              "      <th>Alphabets</th>\n",
              "      <th></th>\n",
              "      <th></th>\n",
              "      <th></th>\n",
              "      <th></th>\n",
              "    </tr>\n",
              "  </thead>\n",
              "  <tbody>\n",
              "    <tr>\n",
              "      <th>B</th>\n",
              "      <td>0.859724</td>\n",
              "      <td>-0.392639</td>\n",
              "      <td>0.853598</td>\n",
              "      <td>0.786161</td>\n",
              "    </tr>\n",
              "    <tr>\n",
              "      <th>A</th>\n",
              "      <td>-1.042351</td>\n",
              "      <td>0.396239</td>\n",
              "      <td>-0.363974</td>\n",
              "      <td>-0.185126</td>\n",
              "    </tr>\n",
              "    <tr>\n",
              "      <th>C</th>\n",
              "      <td>-0.674700</td>\n",
              "      <td>0.182811</td>\n",
              "      <td>-1.186566</td>\n",
              "      <td>0.559129</td>\n",
              "    </tr>\n",
              "    <tr>\n",
              "      <th>E</th>\n",
              "      <td>-0.578163</td>\n",
              "      <td>1.283488</td>\n",
              "      <td>-1.175926</td>\n",
              "      <td>0.836512</td>\n",
              "    </tr>\n",
              "    <tr>\n",
              "      <th>D</th>\n",
              "      <td>0.129249</td>\n",
              "      <td>-0.424662</td>\n",
              "      <td>0.015757</td>\n",
              "      <td>-0.271605</td>\n",
              "    </tr>\n",
              "    <tr>\n",
              "      <th>G</th>\n",
              "      <td>1.005044</td>\n",
              "      <td>-0.298769</td>\n",
              "      <td>-0.881498</td>\n",
              "      <td>-1.400847</td>\n",
              "    </tr>\n",
              "    <tr>\n",
              "      <th>F</th>\n",
              "      <td>0.969954</td>\n",
              "      <td>-0.939907</td>\n",
              "      <td>0.975316</td>\n",
              "      <td>0.789802</td>\n",
              "    </tr>\n",
              "    <tr>\n",
              "      <th>H</th>\n",
              "      <td>-1.067536</td>\n",
              "      <td>-0.278950</td>\n",
              "      <td>-0.533865</td>\n",
              "      <td>1.432076</td>\n",
              "    </tr>\n",
              "    <tr>\n",
              "      <th>J</th>\n",
              "      <td>-0.504922</td>\n",
              "      <td>-0.569931</td>\n",
              "      <td>-0.404107</td>\n",
              "      <td>0.640058</td>\n",
              "    </tr>\n",
              "    <tr>\n",
              "      <th>I</th>\n",
              "      <td>0.375985</td>\n",
              "      <td>-0.699654</td>\n",
              "      <td>1.432534</td>\n",
              "      <td>0.403151</td>\n",
              "    </tr>\n",
              "  </tbody>\n",
              "</table>\n",
              "</div>"
            ],
            "text/plain": [
              "Roman values         I        II       III        IV\n",
              "Alphabets                                           \n",
              "B             0.859724 -0.392639  0.853598  0.786161\n",
              "A            -1.042351  0.396239 -0.363974 -0.185126\n",
              "C            -0.674700  0.182811 -1.186566  0.559129\n",
              "E            -0.578163  1.283488 -1.175926  0.836512\n",
              "D             0.129249 -0.424662  0.015757 -0.271605\n",
              "G             1.005044 -0.298769 -0.881498 -1.400847\n",
              "F             0.969954 -0.939907  0.975316  0.789802\n",
              "H            -1.067536 -0.278950 -0.533865  1.432076\n",
              "J            -0.504922 -0.569931 -0.404107  0.640058\n",
              "I             0.375985 -0.699654  1.432534  0.403151"
            ]
          },
          "metadata": {
            "tags": []
          },
          "execution_count": 215
        }
      ]
    },
    {
      "cell_type": "code",
      "metadata": {
        "colab": {
          "base_uri": "https://localhost:8080/"
        },
        "id": "KBCSo7R6Ba01",
        "outputId": "4358b8b3-670c-480a-efdb-1d09893c2a14"
      },
      "source": [
        "a = df2.index\n",
        "a"
      ],
      "execution_count": null,
      "outputs": [
        {
          "output_type": "execute_result",
          "data": {
            "text/plain": [
              "Index(['A', 'B', 'C', 'D', 'E', 'F', 'G', 'H', 'I', 'J'], dtype='object', name='Alphabets')"
            ]
          },
          "metadata": {
            "tags": []
          },
          "execution_count": 185
        }
      ]
    },
    {
      "cell_type": "code",
      "metadata": {
        "colab": {
          "base_uri": "https://localhost:8080/"
        },
        "id": "1NgoL6z1KuuI",
        "outputId": "99f707b6-bf30-45df-f3c3-3e5f336e7b6b"
      },
      "source": [
        "# getting locations of Index values in range\n",
        "a.slice_locs('A','G')"
      ],
      "execution_count": null,
      "outputs": [
        {
          "output_type": "execute_result",
          "data": {
            "text/plain": [
              "(0, 7)"
            ]
          },
          "metadata": {
            "tags": []
          },
          "execution_count": 183
        }
      ]
    },
    {
      "cell_type": "markdown",
      "metadata": {
        "id": "X4aZM7uIWFAm"
      },
      "source": [
        "* Renaming"
      ]
    },
    {
      "cell_type": "code",
      "metadata": {
        "colab": {
          "base_uri": "https://localhost:8080/",
          "height": 373
        },
        "id": "ESoLxQgeWD0d",
        "outputId": "87f64dd3-c41f-4b8f-b195-aa923380f41e"
      },
      "source": [
        "df2.rename(columns={\"I\":1,\"II\":2,\"III\":3,\"IV\":4})"
      ],
      "execution_count": null,
      "outputs": [
        {
          "output_type": "execute_result",
          "data": {
            "text/html": [
              "<div>\n",
              "<style scoped>\n",
              "    .dataframe tbody tr th:only-of-type {\n",
              "        vertical-align: middle;\n",
              "    }\n",
              "\n",
              "    .dataframe tbody tr th {\n",
              "        vertical-align: top;\n",
              "    }\n",
              "\n",
              "    .dataframe thead th {\n",
              "        text-align: right;\n",
              "    }\n",
              "</style>\n",
              "<table border=\"1\" class=\"dataframe\">\n",
              "  <thead>\n",
              "    <tr style=\"text-align: right;\">\n",
              "      <th>Roman values</th>\n",
              "      <th>1</th>\n",
              "      <th>2</th>\n",
              "      <th>3</th>\n",
              "      <th>4</th>\n",
              "    </tr>\n",
              "    <tr>\n",
              "      <th>Alphabets</th>\n",
              "      <th></th>\n",
              "      <th></th>\n",
              "      <th></th>\n",
              "      <th></th>\n",
              "    </tr>\n",
              "  </thead>\n",
              "  <tbody>\n",
              "    <tr>\n",
              "      <th>A</th>\n",
              "      <td>-1.042351</td>\n",
              "      <td>0.396239</td>\n",
              "      <td>-0.363974</td>\n",
              "      <td>-0.185126</td>\n",
              "    </tr>\n",
              "    <tr>\n",
              "      <th>B</th>\n",
              "      <td>0.859724</td>\n",
              "      <td>-0.392639</td>\n",
              "      <td>0.853598</td>\n",
              "      <td>0.786161</td>\n",
              "    </tr>\n",
              "    <tr>\n",
              "      <th>C</th>\n",
              "      <td>-0.674700</td>\n",
              "      <td>0.182811</td>\n",
              "      <td>-1.186566</td>\n",
              "      <td>0.559129</td>\n",
              "    </tr>\n",
              "    <tr>\n",
              "      <th>D</th>\n",
              "      <td>0.129249</td>\n",
              "      <td>-0.424662</td>\n",
              "      <td>0.015757</td>\n",
              "      <td>-0.271605</td>\n",
              "    </tr>\n",
              "    <tr>\n",
              "      <th>E</th>\n",
              "      <td>-0.578163</td>\n",
              "      <td>1.283488</td>\n",
              "      <td>-1.175926</td>\n",
              "      <td>0.836512</td>\n",
              "    </tr>\n",
              "    <tr>\n",
              "      <th>F</th>\n",
              "      <td>0.969954</td>\n",
              "      <td>-0.939907</td>\n",
              "      <td>0.975316</td>\n",
              "      <td>0.789802</td>\n",
              "    </tr>\n",
              "    <tr>\n",
              "      <th>G</th>\n",
              "      <td>1.005044</td>\n",
              "      <td>-0.298769</td>\n",
              "      <td>-0.881498</td>\n",
              "      <td>-1.400847</td>\n",
              "    </tr>\n",
              "    <tr>\n",
              "      <th>H</th>\n",
              "      <td>-1.067536</td>\n",
              "      <td>-0.278950</td>\n",
              "      <td>-0.533865</td>\n",
              "      <td>1.432076</td>\n",
              "    </tr>\n",
              "    <tr>\n",
              "      <th>I</th>\n",
              "      <td>0.375985</td>\n",
              "      <td>-0.699654</td>\n",
              "      <td>1.432534</td>\n",
              "      <td>0.403151</td>\n",
              "    </tr>\n",
              "    <tr>\n",
              "      <th>J</th>\n",
              "      <td>-0.504922</td>\n",
              "      <td>-0.569931</td>\n",
              "      <td>-0.404107</td>\n",
              "      <td>0.640058</td>\n",
              "    </tr>\n",
              "  </tbody>\n",
              "</table>\n",
              "</div>"
            ],
            "text/plain": [
              "Roman values         1         2         3         4\n",
              "Alphabets                                           \n",
              "A            -1.042351  0.396239 -0.363974 -0.185126\n",
              "B             0.859724 -0.392639  0.853598  0.786161\n",
              "C            -0.674700  0.182811 -1.186566  0.559129\n",
              "D             0.129249 -0.424662  0.015757 -0.271605\n",
              "E            -0.578163  1.283488 -1.175926  0.836512\n",
              "F             0.969954 -0.939907  0.975316  0.789802\n",
              "G             1.005044 -0.298769 -0.881498 -1.400847\n",
              "H            -1.067536 -0.278950 -0.533865  1.432076\n",
              "I             0.375985 -0.699654  1.432534  0.403151\n",
              "J            -0.504922 -0.569931 -0.404107  0.640058"
            ]
          },
          "metadata": {
            "tags": []
          },
          "execution_count": 318
        }
      ]
    },
    {
      "cell_type": "markdown",
      "metadata": {
        "id": "0ZCEp_4yNrAC"
      },
      "source": [
        "* DataFrame Filtering"
      ]
    },
    {
      "cell_type": "code",
      "metadata": {
        "colab": {
          "base_uri": "https://localhost:8080/",
          "height": 373
        },
        "id": "hh7Lt9V3CeTe",
        "outputId": "870bb594-a049-48b0-84b1-c675890c0f2b"
      },
      "source": [
        "df2.filter(items=['I','IV'])"
      ],
      "execution_count": null,
      "outputs": [
        {
          "output_type": "execute_result",
          "data": {
            "text/html": [
              "<div>\n",
              "<style scoped>\n",
              "    .dataframe tbody tr th:only-of-type {\n",
              "        vertical-align: middle;\n",
              "    }\n",
              "\n",
              "    .dataframe tbody tr th {\n",
              "        vertical-align: top;\n",
              "    }\n",
              "\n",
              "    .dataframe thead th {\n",
              "        text-align: right;\n",
              "    }\n",
              "</style>\n",
              "<table border=\"1\" class=\"dataframe\">\n",
              "  <thead>\n",
              "    <tr style=\"text-align: right;\">\n",
              "      <th>Roman values</th>\n",
              "      <th>I</th>\n",
              "      <th>IV</th>\n",
              "    </tr>\n",
              "    <tr>\n",
              "      <th>Alphabets</th>\n",
              "      <th></th>\n",
              "      <th></th>\n",
              "    </tr>\n",
              "  </thead>\n",
              "  <tbody>\n",
              "    <tr>\n",
              "      <th>A</th>\n",
              "      <td>-1.042351</td>\n",
              "      <td>-0.185126</td>\n",
              "    </tr>\n",
              "    <tr>\n",
              "      <th>B</th>\n",
              "      <td>0.859724</td>\n",
              "      <td>0.786161</td>\n",
              "    </tr>\n",
              "    <tr>\n",
              "      <th>C</th>\n",
              "      <td>-0.674700</td>\n",
              "      <td>0.559129</td>\n",
              "    </tr>\n",
              "    <tr>\n",
              "      <th>D</th>\n",
              "      <td>0.129249</td>\n",
              "      <td>-0.271605</td>\n",
              "    </tr>\n",
              "    <tr>\n",
              "      <th>E</th>\n",
              "      <td>-0.578163</td>\n",
              "      <td>0.836512</td>\n",
              "    </tr>\n",
              "    <tr>\n",
              "      <th>F</th>\n",
              "      <td>0.969954</td>\n",
              "      <td>0.789802</td>\n",
              "    </tr>\n",
              "    <tr>\n",
              "      <th>G</th>\n",
              "      <td>1.005044</td>\n",
              "      <td>-1.400847</td>\n",
              "    </tr>\n",
              "    <tr>\n",
              "      <th>H</th>\n",
              "      <td>-1.067536</td>\n",
              "      <td>1.432076</td>\n",
              "    </tr>\n",
              "    <tr>\n",
              "      <th>I</th>\n",
              "      <td>0.375985</td>\n",
              "      <td>0.403151</td>\n",
              "    </tr>\n",
              "    <tr>\n",
              "      <th>J</th>\n",
              "      <td>-0.504922</td>\n",
              "      <td>0.640058</td>\n",
              "    </tr>\n",
              "  </tbody>\n",
              "</table>\n",
              "</div>"
            ],
            "text/plain": [
              "Roman values         I        IV\n",
              "Alphabets                       \n",
              "A            -1.042351 -0.185126\n",
              "B             0.859724  0.786161\n",
              "C            -0.674700  0.559129\n",
              "D             0.129249 -0.271605\n",
              "E            -0.578163  0.836512\n",
              "F             0.969954  0.789802\n",
              "G             1.005044 -1.400847\n",
              "H            -1.067536  1.432076\n",
              "I             0.375985  0.403151\n",
              "J            -0.504922  0.640058"
            ]
          },
          "metadata": {
            "tags": []
          },
          "execution_count": 316
        }
      ]
    },
    {
      "cell_type": "code",
      "metadata": {
        "colab": {
          "base_uri": "https://localhost:8080/",
          "height": 166
        },
        "id": "Tp0W2ZwLOB4k",
        "outputId": "91fb9274-1a23-45b1-8b16-54029f42a291"
      },
      "source": [
        "df1.filter(like='-02-',axis=0)"
      ],
      "execution_count": null,
      "outputs": [
        {
          "output_type": "execute_result",
          "data": {
            "text/html": [
              "<div>\n",
              "<style scoped>\n",
              "    .dataframe tbody tr th:only-of-type {\n",
              "        vertical-align: middle;\n",
              "    }\n",
              "\n",
              "    .dataframe tbody tr th {\n",
              "        vertical-align: top;\n",
              "    }\n",
              "\n",
              "    .dataframe thead th {\n",
              "        text-align: right;\n",
              "    }\n",
              "</style>\n",
              "<table border=\"1\" class=\"dataframe\">\n",
              "  <thead>\n",
              "    <tr style=\"text-align: right;\">\n",
              "      <th></th>\n",
              "      <th>A</th>\n",
              "      <th>B</th>\n",
              "      <th>C</th>\n",
              "      <th>D</th>\n",
              "    </tr>\n",
              "  </thead>\n",
              "  <tbody>\n",
              "    <tr>\n",
              "      <th>2021-02-25</th>\n",
              "      <td>-0.223142</td>\n",
              "      <td>0.172563</td>\n",
              "      <td>1.328213</td>\n",
              "      <td>-0.396174</td>\n",
              "    </tr>\n",
              "    <tr>\n",
              "      <th>2021-02-26</th>\n",
              "      <td>-0.258195</td>\n",
              "      <td>-0.898269</td>\n",
              "      <td>1.534004</td>\n",
              "      <td>2.230910</td>\n",
              "    </tr>\n",
              "    <tr>\n",
              "      <th>2021-02-27</th>\n",
              "      <td>-0.144576</td>\n",
              "      <td>0.857741</td>\n",
              "      <td>0.631783</td>\n",
              "      <td>2.730759</td>\n",
              "    </tr>\n",
              "    <tr>\n",
              "      <th>2021-02-28</th>\n",
              "      <td>-0.563964</td>\n",
              "      <td>0.682976</td>\n",
              "      <td>0.134919</td>\n",
              "      <td>-0.036175</td>\n",
              "    </tr>\n",
              "  </tbody>\n",
              "</table>\n",
              "</div>"
            ],
            "text/plain": [
              "                   A         B         C         D\n",
              "2021-02-25 -0.223142  0.172563  1.328213 -0.396174\n",
              "2021-02-26 -0.258195 -0.898269  1.534004  2.230910\n",
              "2021-02-27 -0.144576  0.857741  0.631783  2.730759\n",
              "2021-02-28 -0.563964  0.682976  0.134919 -0.036175"
            ]
          },
          "metadata": {
            "tags": []
          },
          "execution_count": 190
        }
      ]
    },
    {
      "cell_type": "code",
      "metadata": {
        "id": "TTD0MDBtOfn6"
      },
      "source": [
        ""
      ],
      "execution_count": null,
      "outputs": []
    },
    {
      "cell_type": "markdown",
      "metadata": {
        "id": "ebHOcEC9Rmfg"
      },
      "source": [
        "* Arithmetic and Data Alignment"
      ]
    },
    {
      "cell_type": "code",
      "metadata": {
        "colab": {
          "base_uri": "https://localhost:8080/"
        },
        "id": "FldvhBhBTF_H",
        "outputId": "ba813bee-8a7b-47a1-c0ed-cbe577830e87"
      },
      "source": [
        "A = pd.Series([2, 4, 6])\n",
        "B = pd.Series([1, 3, 5])\n",
        "A+B"
      ],
      "execution_count": null,
      "outputs": [
        {
          "output_type": "execute_result",
          "data": {
            "text/plain": [
              "0     3\n",
              "1     7\n",
              "2    11\n",
              "dtype: int64"
            ]
          },
          "metadata": {
            "tags": []
          },
          "execution_count": 199
        }
      ]
    },
    {
      "cell_type": "code",
      "metadata": {
        "colab": {
          "base_uri": "https://localhost:8080/"
        },
        "id": "M1cebVLZTUMn",
        "outputId": "814d7245-7174-4884-97ac-1cff6b451ca0"
      },
      "source": [
        "A.add(B)"
      ],
      "execution_count": null,
      "outputs": [
        {
          "output_type": "execute_result",
          "data": {
            "text/plain": [
              "0     3\n",
              "1     7\n",
              "2    11\n",
              "dtype: int64"
            ]
          },
          "metadata": {
            "tags": []
          },
          "execution_count": 203
        }
      ]
    },
    {
      "cell_type": "code",
      "metadata": {
        "colab": {
          "base_uri": "https://localhost:8080/"
        },
        "id": "3L6PP8RSOto5",
        "outputId": "357c9d05-9f8a-4d22-92f0-9b86cddc7d97"
      },
      "source": [
        "A = pd.Series([2, 4, 6], index=[0, 1, 2])\n",
        "B = pd.Series([1, 3, 5], index=[1, 2, 3])\n",
        "C =(A+B)\n",
        "C.name = \"Addition\"\n",
        "C"
      ],
      "execution_count": null,
      "outputs": [
        {
          "output_type": "execute_result",
          "data": {
            "text/plain": [
              "0    NaN\n",
              "1    5.0\n",
              "2    9.0\n",
              "3    NaN\n",
              "Name: Addition, dtype: float64"
            ]
          },
          "metadata": {
            "tags": []
          },
          "execution_count": 198
        }
      ]
    },
    {
      "cell_type": "code",
      "metadata": {
        "colab": {
          "base_uri": "https://localhost:8080/"
        },
        "id": "UP4CdBgzRsuM",
        "outputId": "e05150ae-7460-41d5-91e4-938663a163ad"
      },
      "source": [
        "A+5"
      ],
      "execution_count": null,
      "outputs": [
        {
          "output_type": "execute_result",
          "data": {
            "text/plain": [
              "0     7\n",
              "1     9\n",
              "2    11\n",
              "dtype: int64"
            ]
          },
          "metadata": {
            "tags": []
          },
          "execution_count": 204
        }
      ]
    },
    {
      "cell_type": "code",
      "metadata": {
        "colab": {
          "base_uri": "https://localhost:8080/"
        },
        "id": "9iOzJDf4TiSR",
        "outputId": "bd48fd75-c7e3-4f1e-8e1b-5c7b1e29fa29"
      },
      "source": [
        "A.subtract(B, axis=0)\n"
      ],
      "execution_count": null,
      "outputs": [
        {
          "output_type": "execute_result",
          "data": {
            "text/plain": [
              "0    1\n",
              "1    1\n",
              "2    1\n",
              "dtype: int64"
            ]
          },
          "metadata": {
            "tags": []
          },
          "execution_count": 207
        }
      ]
    },
    {
      "cell_type": "code",
      "metadata": {
        "colab": {
          "base_uri": "https://localhost:8080/"
        },
        "id": "FJdmx-a2T5xh",
        "outputId": "cff12b64-c5b4-44ce-dd32-ee998e0c148f"
      },
      "source": [
        "df1['A']-df1['C']"
      ],
      "execution_count": null,
      "outputs": [
        {
          "output_type": "execute_result",
          "data": {
            "text/plain": [
              "2021-02-25   -1.551355\n",
              "2021-02-26   -1.792198\n",
              "2021-02-27   -0.776359\n",
              "2021-02-28   -0.698883\n",
              "2021-03-01   -0.184756\n",
              "2021-03-02    1.748717\n",
              "2021-03-03    0.585210\n",
              "2021-03-04    0.069477\n",
              "2021-03-05   -0.450624\n",
              "2021-03-06    0.943732\n",
              "Freq: D, dtype: float64"
            ]
          },
          "metadata": {
            "tags": []
          },
          "execution_count": 211
        }
      ]
    },
    {
      "cell_type": "code",
      "metadata": {
        "colab": {
          "base_uri": "https://localhost:8080/",
          "height": 343
        },
        "id": "nkbEdRjJUWPQ",
        "outputId": "96ee71d7-4863-481c-83c9-d9224b8f0764"
      },
      "source": [
        "df1.subtract(df1['C'], axis=0)"
      ],
      "execution_count": null,
      "outputs": [
        {
          "output_type": "execute_result",
          "data": {
            "text/html": [
              "<div>\n",
              "<style scoped>\n",
              "    .dataframe tbody tr th:only-of-type {\n",
              "        vertical-align: middle;\n",
              "    }\n",
              "\n",
              "    .dataframe tbody tr th {\n",
              "        vertical-align: top;\n",
              "    }\n",
              "\n",
              "    .dataframe thead th {\n",
              "        text-align: right;\n",
              "    }\n",
              "</style>\n",
              "<table border=\"1\" class=\"dataframe\">\n",
              "  <thead>\n",
              "    <tr style=\"text-align: right;\">\n",
              "      <th></th>\n",
              "      <th>A</th>\n",
              "      <th>B</th>\n",
              "      <th>C</th>\n",
              "      <th>D</th>\n",
              "    </tr>\n",
              "  </thead>\n",
              "  <tbody>\n",
              "    <tr>\n",
              "      <th>2021-02-25</th>\n",
              "      <td>-1.551355</td>\n",
              "      <td>-1.155650</td>\n",
              "      <td>0.0</td>\n",
              "      <td>-1.724387</td>\n",
              "    </tr>\n",
              "    <tr>\n",
              "      <th>2021-02-26</th>\n",
              "      <td>-1.792198</td>\n",
              "      <td>-2.432273</td>\n",
              "      <td>0.0</td>\n",
              "      <td>0.696906</td>\n",
              "    </tr>\n",
              "    <tr>\n",
              "      <th>2021-02-27</th>\n",
              "      <td>-0.776359</td>\n",
              "      <td>0.225959</td>\n",
              "      <td>0.0</td>\n",
              "      <td>2.098976</td>\n",
              "    </tr>\n",
              "    <tr>\n",
              "      <th>2021-02-28</th>\n",
              "      <td>-0.698883</td>\n",
              "      <td>0.548057</td>\n",
              "      <td>0.0</td>\n",
              "      <td>-0.171094</td>\n",
              "    </tr>\n",
              "    <tr>\n",
              "      <th>2021-03-01</th>\n",
              "      <td>-0.184756</td>\n",
              "      <td>0.191573</td>\n",
              "      <td>0.0</td>\n",
              "      <td>1.177291</td>\n",
              "    </tr>\n",
              "    <tr>\n",
              "      <th>2021-03-02</th>\n",
              "      <td>1.748717</td>\n",
              "      <td>-0.579091</td>\n",
              "      <td>0.0</td>\n",
              "      <td>0.238532</td>\n",
              "    </tr>\n",
              "    <tr>\n",
              "      <th>2021-03-03</th>\n",
              "      <td>0.585210</td>\n",
              "      <td>-0.365056</td>\n",
              "      <td>0.0</td>\n",
              "      <td>0.053356</td>\n",
              "    </tr>\n",
              "    <tr>\n",
              "      <th>2021-03-04</th>\n",
              "      <td>0.069477</td>\n",
              "      <td>0.503607</td>\n",
              "      <td>0.0</td>\n",
              "      <td>1.528294</td>\n",
              "    </tr>\n",
              "    <tr>\n",
              "      <th>2021-03-05</th>\n",
              "      <td>-0.450624</td>\n",
              "      <td>0.012885</td>\n",
              "      <td>0.0</td>\n",
              "      <td>0.111368</td>\n",
              "    </tr>\n",
              "    <tr>\n",
              "      <th>2021-03-06</th>\n",
              "      <td>0.943732</td>\n",
              "      <td>1.117869</td>\n",
              "      <td>0.0</td>\n",
              "      <td>-0.608026</td>\n",
              "    </tr>\n",
              "  </tbody>\n",
              "</table>\n",
              "</div>"
            ],
            "text/plain": [
              "                   A         B    C         D\n",
              "2021-02-25 -1.551355 -1.155650  0.0 -1.724387\n",
              "2021-02-26 -1.792198 -2.432273  0.0  0.696906\n",
              "2021-02-27 -0.776359  0.225959  0.0  2.098976\n",
              "2021-02-28 -0.698883  0.548057  0.0 -0.171094\n",
              "2021-03-01 -0.184756  0.191573  0.0  1.177291\n",
              "2021-03-02  1.748717 -0.579091  0.0  0.238532\n",
              "2021-03-03  0.585210 -0.365056  0.0  0.053356\n",
              "2021-03-04  0.069477  0.503607  0.0  1.528294\n",
              "2021-03-05 -0.450624  0.012885  0.0  0.111368\n",
              "2021-03-06  0.943732  1.117869  0.0 -0.608026"
            ]
          },
          "metadata": {
            "tags": []
          },
          "execution_count": 213
        }
      ]
    },
    {
      "cell_type": "markdown",
      "metadata": {
        "id": "EyTohgDnqxMY"
      },
      "source": [
        "* Ranking and Sorting"
      ]
    },
    {
      "cell_type": "code",
      "metadata": {
        "id": "HZS1WraUVBZC"
      },
      "source": [
        "df3 = pd.DataFrame({'A' : [1,2,3,4,5],\n",
        "                   'B' : pd.date_range('20200225' , periods=5),\n",
        "                   'C' : pd.Series([5,10,9,65,4]),\n",
        "                   'D' : pd.Series(5, index=(np.arange(5))),\n",
        "                   'E' : pd.Categorical([\"Train\",\"Train\",\"Test\",\"Train\",\"Test\"]),\n",
        "                   'F' : 'Workshop'})"
      ],
      "execution_count": null,
      "outputs": []
    },
    {
      "cell_type": "code",
      "metadata": {
        "colab": {
          "base_uri": "https://localhost:8080/",
          "height": 195
        },
        "id": "e3n0a27Ro2TQ",
        "outputId": "5f510f3b-d005-4599-9242-28e29f22cfc2"
      },
      "source": [
        "df3"
      ],
      "execution_count": null,
      "outputs": [
        {
          "output_type": "execute_result",
          "data": {
            "text/html": [
              "<div>\n",
              "<style scoped>\n",
              "    .dataframe tbody tr th:only-of-type {\n",
              "        vertical-align: middle;\n",
              "    }\n",
              "\n",
              "    .dataframe tbody tr th {\n",
              "        vertical-align: top;\n",
              "    }\n",
              "\n",
              "    .dataframe thead th {\n",
              "        text-align: right;\n",
              "    }\n",
              "</style>\n",
              "<table border=\"1\" class=\"dataframe\">\n",
              "  <thead>\n",
              "    <tr style=\"text-align: right;\">\n",
              "      <th></th>\n",
              "      <th>A</th>\n",
              "      <th>B</th>\n",
              "      <th>C</th>\n",
              "      <th>D</th>\n",
              "      <th>E</th>\n",
              "      <th>F</th>\n",
              "    </tr>\n",
              "  </thead>\n",
              "  <tbody>\n",
              "    <tr>\n",
              "      <th>0</th>\n",
              "      <td>1</td>\n",
              "      <td>2020-02-25</td>\n",
              "      <td>5</td>\n",
              "      <td>5</td>\n",
              "      <td>Train</td>\n",
              "      <td>Workshop</td>\n",
              "    </tr>\n",
              "    <tr>\n",
              "      <th>1</th>\n",
              "      <td>2</td>\n",
              "      <td>2020-02-26</td>\n",
              "      <td>10</td>\n",
              "      <td>5</td>\n",
              "      <td>Train</td>\n",
              "      <td>Workshop</td>\n",
              "    </tr>\n",
              "    <tr>\n",
              "      <th>2</th>\n",
              "      <td>3</td>\n",
              "      <td>2020-02-27</td>\n",
              "      <td>9</td>\n",
              "      <td>5</td>\n",
              "      <td>Test</td>\n",
              "      <td>Workshop</td>\n",
              "    </tr>\n",
              "    <tr>\n",
              "      <th>3</th>\n",
              "      <td>4</td>\n",
              "      <td>2020-02-28</td>\n",
              "      <td>65</td>\n",
              "      <td>5</td>\n",
              "      <td>Train</td>\n",
              "      <td>Workshop</td>\n",
              "    </tr>\n",
              "    <tr>\n",
              "      <th>4</th>\n",
              "      <td>5</td>\n",
              "      <td>2020-02-29</td>\n",
              "      <td>4</td>\n",
              "      <td>5</td>\n",
              "      <td>Test</td>\n",
              "      <td>Workshop</td>\n",
              "    </tr>\n",
              "  </tbody>\n",
              "</table>\n",
              "</div>"
            ],
            "text/plain": [
              "   A          B   C  D      E         F\n",
              "0  1 2020-02-25   5  5  Train  Workshop\n",
              "1  2 2020-02-26  10  5  Train  Workshop\n",
              "2  3 2020-02-27   9  5   Test  Workshop\n",
              "3  4 2020-02-28  65  5  Train  Workshop\n",
              "4  5 2020-02-29   4  5   Test  Workshop"
            ]
          },
          "metadata": {
            "tags": []
          },
          "execution_count": 270
        }
      ]
    },
    {
      "cell_type": "code",
      "metadata": {
        "colab": {
          "base_uri": "https://localhost:8080/",
          "height": 195
        },
        "id": "eGCbgUhdo4P2",
        "outputId": "bc761a1b-6b43-4810-ef85-0eccb7d78097"
      },
      "source": [
        "df3['Ranking'] = df3['C'].rank(ascending = 1)\n",
        "df3.sort_values(by='C')"
      ],
      "execution_count": null,
      "outputs": [
        {
          "output_type": "execute_result",
          "data": {
            "text/html": [
              "<div>\n",
              "<style scoped>\n",
              "    .dataframe tbody tr th:only-of-type {\n",
              "        vertical-align: middle;\n",
              "    }\n",
              "\n",
              "    .dataframe tbody tr th {\n",
              "        vertical-align: top;\n",
              "    }\n",
              "\n",
              "    .dataframe thead th {\n",
              "        text-align: right;\n",
              "    }\n",
              "</style>\n",
              "<table border=\"1\" class=\"dataframe\">\n",
              "  <thead>\n",
              "    <tr style=\"text-align: right;\">\n",
              "      <th></th>\n",
              "      <th>A</th>\n",
              "      <th>B</th>\n",
              "      <th>C</th>\n",
              "      <th>D</th>\n",
              "      <th>E</th>\n",
              "      <th>F</th>\n",
              "      <th>Ranking</th>\n",
              "    </tr>\n",
              "  </thead>\n",
              "  <tbody>\n",
              "    <tr>\n",
              "      <th>4</th>\n",
              "      <td>5</td>\n",
              "      <td>2020-02-29</td>\n",
              "      <td>4</td>\n",
              "      <td>5</td>\n",
              "      <td>Test</td>\n",
              "      <td>Workshop</td>\n",
              "      <td>1.0</td>\n",
              "    </tr>\n",
              "    <tr>\n",
              "      <th>0</th>\n",
              "      <td>1</td>\n",
              "      <td>2020-02-25</td>\n",
              "      <td>5</td>\n",
              "      <td>5</td>\n",
              "      <td>Train</td>\n",
              "      <td>Workshop</td>\n",
              "      <td>2.0</td>\n",
              "    </tr>\n",
              "    <tr>\n",
              "      <th>2</th>\n",
              "      <td>3</td>\n",
              "      <td>2020-02-27</td>\n",
              "      <td>9</td>\n",
              "      <td>5</td>\n",
              "      <td>Test</td>\n",
              "      <td>Workshop</td>\n",
              "      <td>3.0</td>\n",
              "    </tr>\n",
              "    <tr>\n",
              "      <th>1</th>\n",
              "      <td>2</td>\n",
              "      <td>2020-02-26</td>\n",
              "      <td>10</td>\n",
              "      <td>5</td>\n",
              "      <td>Train</td>\n",
              "      <td>Workshop</td>\n",
              "      <td>4.0</td>\n",
              "    </tr>\n",
              "    <tr>\n",
              "      <th>3</th>\n",
              "      <td>4</td>\n",
              "      <td>2020-02-28</td>\n",
              "      <td>65</td>\n",
              "      <td>5</td>\n",
              "      <td>Train</td>\n",
              "      <td>Workshop</td>\n",
              "      <td>5.0</td>\n",
              "    </tr>\n",
              "  </tbody>\n",
              "</table>\n",
              "</div>"
            ],
            "text/plain": [
              "   A          B   C  D      E         F  Ranking\n",
              "4  5 2020-02-29   4  5   Test  Workshop      1.0\n",
              "0  1 2020-02-25   5  5  Train  Workshop      2.0\n",
              "2  3 2020-02-27   9  5   Test  Workshop      3.0\n",
              "1  2 2020-02-26  10  5  Train  Workshop      4.0\n",
              "3  4 2020-02-28  65  5  Train  Workshop      5.0"
            ]
          },
          "metadata": {
            "tags": []
          },
          "execution_count": 280
        }
      ]
    },
    {
      "cell_type": "code",
      "metadata": {
        "id": "ep9e5TVnpdIU"
      },
      "source": [
        "del df3['Ranking']\n",
        "df3.reset_index(drop=True, inplace=True)"
      ],
      "execution_count": null,
      "outputs": []
    },
    {
      "cell_type": "code",
      "metadata": {
        "id": "hwxbVWI3qKgL"
      },
      "source": [
        "df3 = df3.set_index('Ranking')"
      ],
      "execution_count": null,
      "outputs": []
    },
    {
      "cell_type": "code",
      "metadata": {
        "colab": {
          "base_uri": "https://localhost:8080/",
          "height": 225
        },
        "id": "xoZY-Yd3qLlj",
        "outputId": "d6f11977-3b6c-42f5-aca9-e8cd9313c534"
      },
      "source": [
        "df3"
      ],
      "execution_count": null,
      "outputs": [
        {
          "output_type": "execute_result",
          "data": {
            "text/html": [
              "<div>\n",
              "<style scoped>\n",
              "    .dataframe tbody tr th:only-of-type {\n",
              "        vertical-align: middle;\n",
              "    }\n",
              "\n",
              "    .dataframe tbody tr th {\n",
              "        vertical-align: top;\n",
              "    }\n",
              "\n",
              "    .dataframe thead th {\n",
              "        text-align: right;\n",
              "    }\n",
              "</style>\n",
              "<table border=\"1\" class=\"dataframe\">\n",
              "  <thead>\n",
              "    <tr style=\"text-align: right;\">\n",
              "      <th></th>\n",
              "      <th>A</th>\n",
              "      <th>B</th>\n",
              "      <th>C</th>\n",
              "      <th>D</th>\n",
              "      <th>E</th>\n",
              "      <th>F</th>\n",
              "    </tr>\n",
              "    <tr>\n",
              "      <th>Ranking</th>\n",
              "      <th></th>\n",
              "      <th></th>\n",
              "      <th></th>\n",
              "      <th></th>\n",
              "      <th></th>\n",
              "      <th></th>\n",
              "    </tr>\n",
              "  </thead>\n",
              "  <tbody>\n",
              "    <tr>\n",
              "      <th>2.0</th>\n",
              "      <td>1</td>\n",
              "      <td>2020-02-25</td>\n",
              "      <td>5</td>\n",
              "      <td>5</td>\n",
              "      <td>Train</td>\n",
              "      <td>Workshop</td>\n",
              "    </tr>\n",
              "    <tr>\n",
              "      <th>4.0</th>\n",
              "      <td>2</td>\n",
              "      <td>2020-02-26</td>\n",
              "      <td>10</td>\n",
              "      <td>5</td>\n",
              "      <td>Train</td>\n",
              "      <td>Workshop</td>\n",
              "    </tr>\n",
              "    <tr>\n",
              "      <th>3.0</th>\n",
              "      <td>3</td>\n",
              "      <td>2020-02-27</td>\n",
              "      <td>9</td>\n",
              "      <td>5</td>\n",
              "      <td>Test</td>\n",
              "      <td>Workshop</td>\n",
              "    </tr>\n",
              "    <tr>\n",
              "      <th>5.0</th>\n",
              "      <td>4</td>\n",
              "      <td>2020-02-28</td>\n",
              "      <td>65</td>\n",
              "      <td>5</td>\n",
              "      <td>Train</td>\n",
              "      <td>Workshop</td>\n",
              "    </tr>\n",
              "    <tr>\n",
              "      <th>1.0</th>\n",
              "      <td>5</td>\n",
              "      <td>2020-02-29</td>\n",
              "      <td>4</td>\n",
              "      <td>5</td>\n",
              "      <td>Test</td>\n",
              "      <td>Workshop</td>\n",
              "    </tr>\n",
              "  </tbody>\n",
              "</table>\n",
              "</div>"
            ],
            "text/plain": [
              "         A          B   C  D      E         F\n",
              "Ranking                                      \n",
              "2.0      1 2020-02-25   5  5  Train  Workshop\n",
              "4.0      2 2020-02-26  10  5  Train  Workshop\n",
              "3.0      3 2020-02-27   9  5   Test  Workshop\n",
              "5.0      4 2020-02-28  65  5  Train  Workshop\n",
              "1.0      5 2020-02-29   4  5   Test  Workshop"
            ]
          },
          "metadata": {
            "tags": []
          },
          "execution_count": 282
        }
      ]
    },
    {
      "cell_type": "code",
      "metadata": {
        "colab": {
          "base_uri": "https://localhost:8080/",
          "height": 225
        },
        "id": "2vL27wkJriSc",
        "outputId": "540a28ae-d383-4d7f-e2ed-17c32cb76491"
      },
      "source": [
        "df3.sort_index()"
      ],
      "execution_count": null,
      "outputs": [
        {
          "output_type": "execute_result",
          "data": {
            "text/html": [
              "<div>\n",
              "<style scoped>\n",
              "    .dataframe tbody tr th:only-of-type {\n",
              "        vertical-align: middle;\n",
              "    }\n",
              "\n",
              "    .dataframe tbody tr th {\n",
              "        vertical-align: top;\n",
              "    }\n",
              "\n",
              "    .dataframe thead th {\n",
              "        text-align: right;\n",
              "    }\n",
              "</style>\n",
              "<table border=\"1\" class=\"dataframe\">\n",
              "  <thead>\n",
              "    <tr style=\"text-align: right;\">\n",
              "      <th></th>\n",
              "      <th>A</th>\n",
              "      <th>B</th>\n",
              "      <th>C</th>\n",
              "      <th>D</th>\n",
              "      <th>E</th>\n",
              "      <th>F</th>\n",
              "    </tr>\n",
              "    <tr>\n",
              "      <th>Ranking</th>\n",
              "      <th></th>\n",
              "      <th></th>\n",
              "      <th></th>\n",
              "      <th></th>\n",
              "      <th></th>\n",
              "      <th></th>\n",
              "    </tr>\n",
              "  </thead>\n",
              "  <tbody>\n",
              "    <tr>\n",
              "      <th>1.0</th>\n",
              "      <td>5</td>\n",
              "      <td>2020-02-29</td>\n",
              "      <td>4</td>\n",
              "      <td>5</td>\n",
              "      <td>Test</td>\n",
              "      <td>Workshop</td>\n",
              "    </tr>\n",
              "    <tr>\n",
              "      <th>2.0</th>\n",
              "      <td>1</td>\n",
              "      <td>2020-02-25</td>\n",
              "      <td>5</td>\n",
              "      <td>5</td>\n",
              "      <td>Train</td>\n",
              "      <td>Workshop</td>\n",
              "    </tr>\n",
              "    <tr>\n",
              "      <th>3.0</th>\n",
              "      <td>3</td>\n",
              "      <td>2020-02-27</td>\n",
              "      <td>9</td>\n",
              "      <td>5</td>\n",
              "      <td>Test</td>\n",
              "      <td>Workshop</td>\n",
              "    </tr>\n",
              "    <tr>\n",
              "      <th>4.0</th>\n",
              "      <td>2</td>\n",
              "      <td>2020-02-26</td>\n",
              "      <td>10</td>\n",
              "      <td>5</td>\n",
              "      <td>Train</td>\n",
              "      <td>Workshop</td>\n",
              "    </tr>\n",
              "    <tr>\n",
              "      <th>5.0</th>\n",
              "      <td>4</td>\n",
              "      <td>2020-02-28</td>\n",
              "      <td>65</td>\n",
              "      <td>5</td>\n",
              "      <td>Train</td>\n",
              "      <td>Workshop</td>\n",
              "    </tr>\n",
              "  </tbody>\n",
              "</table>\n",
              "</div>"
            ],
            "text/plain": [
              "         A          B   C  D      E         F\n",
              "Ranking                                      \n",
              "1.0      5 2020-02-29   4  5   Test  Workshop\n",
              "2.0      1 2020-02-25   5  5  Train  Workshop\n",
              "3.0      3 2020-02-27   9  5   Test  Workshop\n",
              "4.0      2 2020-02-26  10  5  Train  Workshop\n",
              "5.0      4 2020-02-28  65  5  Train  Workshop"
            ]
          },
          "metadata": {
            "tags": []
          },
          "execution_count": 283
        }
      ]
    },
    {
      "cell_type": "markdown",
      "metadata": {
        "id": "WOWxylb6tfCK"
      },
      "source": [
        "*  Duplicate Labels\n",
        "* By default, for each set of duplicated values, the first occurrence is set to False and all others to True:"
      ]
    },
    {
      "cell_type": "code",
      "metadata": {
        "id": "oF2TgahjroaL"
      },
      "source": [
        "book_list = pd.Series(['The Lord of the Rings','The Kite Runner','Harry Potter','Slaughterhouse-Five'], index=['J.R.R. Tolkien','Khaled Hosseini','Khaled Hosseini','Kurt Vonnegut'])"
      ],
      "execution_count": null,
      "outputs": []
    },
    {
      "cell_type": "code",
      "metadata": {
        "colab": {
          "base_uri": "https://localhost:8080/"
        },
        "id": "auqQsemuuPVU",
        "outputId": "6bb376b5-de9d-4e4d-eee9-767efd253736"
      },
      "source": [
        "book_list"
      ],
      "execution_count": null,
      "outputs": [
        {
          "output_type": "execute_result",
          "data": {
            "text/plain": [
              "J.R.R. Tolkien     The Lord of the Rings\n",
              "Khaled Hosseini          The Kite Runner\n",
              "Khaled Hosseini             Harry Potter\n",
              "Kurt Vonnegut        Slaughterhouse-Five\n",
              "dtype: object"
            ]
          },
          "metadata": {
            "tags": []
          },
          "execution_count": 286
        }
      ]
    },
    {
      "cell_type": "code",
      "metadata": {
        "id": "stVdE0TSvGHt"
      },
      "source": [
        "book_list.index.name=\"Authors\""
      ],
      "execution_count": null,
      "outputs": []
    },
    {
      "cell_type": "code",
      "metadata": {
        "colab": {
          "base_uri": "https://localhost:8080/"
        },
        "id": "Ks8wI24LvO7j",
        "outputId": "3795dcde-e804-44ec-b609-03132f77216d"
      },
      "source": [
        "book_list"
      ],
      "execution_count": null,
      "outputs": [
        {
          "output_type": "execute_result",
          "data": {
            "text/plain": [
              "Authors\n",
              "J.R.R. Tolkien     The Lord of the Rings\n",
              "Khaled Hosseini          The Kite Runner\n",
              "Khaled Hosseini             Harry Potter\n",
              "Kurt Vonnegut        Slaughterhouse-Five\n",
              "dtype: object"
            ]
          },
          "metadata": {
            "tags": []
          },
          "execution_count": 288
        }
      ]
    },
    {
      "cell_type": "code",
      "metadata": {
        "colab": {
          "base_uri": "https://localhost:8080/"
        },
        "id": "x8ZsaMIovQdy",
        "outputId": "25bf5882-a373-4e9f-8f48-482283a7895c"
      },
      "source": [
        "book_list.index.duplicated()"
      ],
      "execution_count": null,
      "outputs": [
        {
          "output_type": "execute_result",
          "data": {
            "text/plain": [
              "array([False, False,  True, False])"
            ]
          },
          "metadata": {
            "tags": []
          },
          "execution_count": 290
        }
      ]
    },
    {
      "cell_type": "code",
      "metadata": {
        "colab": {
          "base_uri": "https://localhost:8080/"
        },
        "id": "ZjPFIvIHvfyD",
        "outputId": "00a770c5-ba58-46d2-9aea-1c18a12d747e"
      },
      "source": [
        "book_list.index.is_unique"
      ],
      "execution_count": null,
      "outputs": [
        {
          "output_type": "execute_result",
          "data": {
            "text/plain": [
              "False"
            ]
          },
          "metadata": {
            "tags": []
          },
          "execution_count": 307
        }
      ]
    },
    {
      "cell_type": "markdown",
      "metadata": {
        "id": "DQ6id_An0-7p"
      },
      "source": [
        "* Correlation and Covariance\n",
        "\n",
        "Compute pairwise covariance of columns, excluding NA/null values.\n",
        "Compute the pairwise covariance among the series of a DataFrame. The returned data frame is the covariance matrix of the columns of the DataFrame."
      ]
    },
    {
      "cell_type": "code",
      "metadata": {
        "id": "qQFrhhIl0nQp"
      },
      "source": [
        "df4 = pd.DataFrame(np.random.randn(4,4),columns=['A','B','C','D'])"
      ],
      "execution_count": null,
      "outputs": []
    },
    {
      "cell_type": "code",
      "metadata": {
        "colab": {
          "base_uri": "https://localhost:8080/",
          "height": 166
        },
        "id": "Mk2aDGuE2nrU",
        "outputId": "1f2cbc16-3202-443a-d578-f0bb01cca12f"
      },
      "source": [
        "df4"
      ],
      "execution_count": null,
      "outputs": [
        {
          "output_type": "execute_result",
          "data": {
            "text/html": [
              "<div>\n",
              "<style scoped>\n",
              "    .dataframe tbody tr th:only-of-type {\n",
              "        vertical-align: middle;\n",
              "    }\n",
              "\n",
              "    .dataframe tbody tr th {\n",
              "        vertical-align: top;\n",
              "    }\n",
              "\n",
              "    .dataframe thead th {\n",
              "        text-align: right;\n",
              "    }\n",
              "</style>\n",
              "<table border=\"1\" class=\"dataframe\">\n",
              "  <thead>\n",
              "    <tr style=\"text-align: right;\">\n",
              "      <th></th>\n",
              "      <th>A</th>\n",
              "      <th>B</th>\n",
              "      <th>C</th>\n",
              "      <th>D</th>\n",
              "    </tr>\n",
              "  </thead>\n",
              "  <tbody>\n",
              "    <tr>\n",
              "      <th>0</th>\n",
              "      <td>0.773492</td>\n",
              "      <td>1.412294</td>\n",
              "      <td>1.119953</td>\n",
              "      <td>-0.867824</td>\n",
              "    </tr>\n",
              "    <tr>\n",
              "      <th>1</th>\n",
              "      <td>-1.250708</td>\n",
              "      <td>0.544314</td>\n",
              "      <td>1.342767</td>\n",
              "      <td>0.450805</td>\n",
              "    </tr>\n",
              "    <tr>\n",
              "      <th>2</th>\n",
              "      <td>-1.082732</td>\n",
              "      <td>-0.118267</td>\n",
              "      <td>-1.192071</td>\n",
              "      <td>-0.110244</td>\n",
              "    </tr>\n",
              "    <tr>\n",
              "      <th>3</th>\n",
              "      <td>-0.652083</td>\n",
              "      <td>-0.088253</td>\n",
              "      <td>1.775704</td>\n",
              "      <td>1.870931</td>\n",
              "    </tr>\n",
              "  </tbody>\n",
              "</table>\n",
              "</div>"
            ],
            "text/plain": [
              "          A         B         C         D\n",
              "0  0.773492  1.412294  1.119953 -0.867824\n",
              "1 -1.250708  0.544314  1.342767  0.450805\n",
              "2 -1.082732 -0.118267 -1.192071 -0.110244\n",
              "3 -0.652083 -0.088253  1.775704  1.870931"
            ]
          },
          "metadata": {
            "tags": []
          },
          "execution_count": 311
        }
      ]
    },
    {
      "cell_type": "code",
      "metadata": {
        "colab": {
          "base_uri": "https://localhost:8080/",
          "height": 166
        },
        "id": "88iODX9O2o3h",
        "outputId": "674baf6e-336e-4357-8a34-164848432b62"
      },
      "source": [
        "df1.cov()"
      ],
      "execution_count": null,
      "outputs": [
        {
          "output_type": "execute_result",
          "data": {
            "text/html": [
              "<div>\n",
              "<style scoped>\n",
              "    .dataframe tbody tr th:only-of-type {\n",
              "        vertical-align: middle;\n",
              "    }\n",
              "\n",
              "    .dataframe tbody tr th {\n",
              "        vertical-align: top;\n",
              "    }\n",
              "\n",
              "    .dataframe thead th {\n",
              "        text-align: right;\n",
              "    }\n",
              "</style>\n",
              "<table border=\"1\" class=\"dataframe\">\n",
              "  <thead>\n",
              "    <tr style=\"text-align: right;\">\n",
              "      <th></th>\n",
              "      <th>A</th>\n",
              "      <th>B</th>\n",
              "      <th>C</th>\n",
              "      <th>D</th>\n",
              "    </tr>\n",
              "  </thead>\n",
              "  <tbody>\n",
              "    <tr>\n",
              "      <th>A</th>\n",
              "      <td>0.241097</td>\n",
              "      <td>-0.114788</td>\n",
              "      <td>-0.131036</td>\n",
              "      <td>-0.266792</td>\n",
              "    </tr>\n",
              "    <tr>\n",
              "      <th>B</th>\n",
              "      <td>-0.114788</td>\n",
              "      <td>0.642624</td>\n",
              "      <td>0.156433</td>\n",
              "      <td>0.148332</td>\n",
              "    </tr>\n",
              "    <tr>\n",
              "      <th>C</th>\n",
              "      <td>-0.131036</td>\n",
              "      <td>0.156433</td>\n",
              "      <td>0.696723</td>\n",
              "      <td>0.522541</td>\n",
              "    </tr>\n",
              "    <tr>\n",
              "      <th>D</th>\n",
              "      <td>-0.266792</td>\n",
              "      <td>0.148332</td>\n",
              "      <td>0.522541</td>\n",
              "      <td>1.559569</td>\n",
              "    </tr>\n",
              "  </tbody>\n",
              "</table>\n",
              "</div>"
            ],
            "text/plain": [
              "          A         B         C         D\n",
              "A  0.241097 -0.114788 -0.131036 -0.266792\n",
              "B -0.114788  0.642624  0.156433  0.148332\n",
              "C -0.131036  0.156433  0.696723  0.522541\n",
              "D -0.266792  0.148332  0.522541  1.559569"
            ]
          },
          "metadata": {
            "tags": []
          },
          "execution_count": 312
        }
      ]
    },
    {
      "cell_type": "markdown",
      "metadata": {
        "id": "4g42WMqe2_uX"
      },
      "source": [
        "The output dataframe can be interpreted as for any cell, row variable correlation with the column variable is the value of the cell. As mentioned earlier, that the correlation of a variable with itself is 1. For that reason all the diagonal values are 1.00"
      ]
    },
    {
      "cell_type": "code",
      "metadata": {
        "colab": {
          "base_uri": "https://localhost:8080/",
          "height": 166
        },
        "id": "WmhUwe8-2tjT",
        "outputId": "e870b2f6-d7e3-4e21-bae9-b09a4dac086c"
      },
      "source": [
        "df1.corr()"
      ],
      "execution_count": null,
      "outputs": [
        {
          "output_type": "execute_result",
          "data": {
            "text/html": [
              "<div>\n",
              "<style scoped>\n",
              "    .dataframe tbody tr th:only-of-type {\n",
              "        vertical-align: middle;\n",
              "    }\n",
              "\n",
              "    .dataframe tbody tr th {\n",
              "        vertical-align: top;\n",
              "    }\n",
              "\n",
              "    .dataframe thead th {\n",
              "        text-align: right;\n",
              "    }\n",
              "</style>\n",
              "<table border=\"1\" class=\"dataframe\">\n",
              "  <thead>\n",
              "    <tr style=\"text-align: right;\">\n",
              "      <th></th>\n",
              "      <th>A</th>\n",
              "      <th>B</th>\n",
              "      <th>C</th>\n",
              "      <th>D</th>\n",
              "    </tr>\n",
              "  </thead>\n",
              "  <tbody>\n",
              "    <tr>\n",
              "      <th>A</th>\n",
              "      <td>1.000000</td>\n",
              "      <td>-0.291622</td>\n",
              "      <td>-0.319716</td>\n",
              "      <td>-0.435085</td>\n",
              "    </tr>\n",
              "    <tr>\n",
              "      <th>B</th>\n",
              "      <td>-0.291622</td>\n",
              "      <td>1.000000</td>\n",
              "      <td>0.233787</td>\n",
              "      <td>0.148168</td>\n",
              "    </tr>\n",
              "    <tr>\n",
              "      <th>C</th>\n",
              "      <td>-0.319716</td>\n",
              "      <td>0.233787</td>\n",
              "      <td>1.000000</td>\n",
              "      <td>0.501289</td>\n",
              "    </tr>\n",
              "    <tr>\n",
              "      <th>D</th>\n",
              "      <td>-0.435085</td>\n",
              "      <td>0.148168</td>\n",
              "      <td>0.501289</td>\n",
              "      <td>1.000000</td>\n",
              "    </tr>\n",
              "  </tbody>\n",
              "</table>\n",
              "</div>"
            ],
            "text/plain": [
              "          A         B         C         D\n",
              "A  1.000000 -0.291622 -0.319716 -0.435085\n",
              "B -0.291622  1.000000  0.233787  0.148168\n",
              "C -0.319716  0.233787  1.000000  0.501289\n",
              "D -0.435085  0.148168  0.501289  1.000000"
            ]
          },
          "metadata": {
            "tags": []
          },
          "execution_count": 313
        }
      ]
    },
    {
      "cell_type": "code",
      "metadata": {
        "id": "Aop_p-NM2-Hx"
      },
      "source": [
        ""
      ],
      "execution_count": null,
      "outputs": []
    }
  ]
}